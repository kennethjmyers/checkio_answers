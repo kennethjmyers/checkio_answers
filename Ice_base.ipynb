{
 "cells": [
  {
   "cell_type": "markdown",
   "metadata": {},
   "source": [
    "## 1 Funny Addition\n",
    "\n",
    "We have an array of two positive integers. Add these two numbers together.\n"
   ]
  },
  {
   "cell_type": "code",
   "execution_count": 2,
   "metadata": {
    "collapsed": false
   },
   "outputs": [
    {
     "name": "stdout",
     "output_type": "stream",
     "text": [
      "All ok\n"
     ]
    }
   ],
   "source": [
    "def checkio(data):\n",
    "    return data[0]+data[1]\n",
    "    \n",
    "if __name__ == '__main__':\n",
    "    assert checkio([5, 5]) == 10, 'First'\n",
    "    assert checkio([7, 1]) == 8, 'Second'\n",
    "    print('All ok')"
   ]
  },
  {
   "cell_type": "markdown",
   "metadata": {},
   "source": [
    "## 2 Simple Areas\n",
    "\n",
    "Stephan works with simple forms when constructing something, and he need some programming tools to calculate his expenses. Let's take a trip back to our school days and pull out some simple geometry for this.\n",
    "\n",
    "You should write a function to calculate the area of simple figures: circles, rectangles and triangles. You are give an arbitrary number of arguments and depending on this, the function calculates area for the different figures.\n",
    "\n",
    "One argument -- The diameter of a circle and you need calculate the area of the circle.\n",
    "Two arguments -- The side lengths of a rectangle and you need calculate the area of the rectangle.\n",
    "Three arguments -- The lengths of each side on a triangle and you need calculate the area of the triangle."
   ]
  },
  {
   "cell_type": "code",
   "execution_count": 33,
   "metadata": {
    "collapsed": false
   },
   "outputs": [
    {
     "name": "stdout",
     "output_type": "stream",
     "text": [
      "7.07\n",
      "4\n",
      "6\n",
      "6.0\n",
      "1.5\n"
     ]
    }
   ],
   "source": [
    "from math import pi,sqrt\n",
    "\n",
    "def simple_areas(*args):\n",
    "    if len(args) == 1:\n",
    "        return round(pi*(args[0]/2)**2,2)\n",
    "    \n",
    "    elif len(args) == 2:\n",
    "        return round(args[0]*args[1],2)\n",
    "    elif len(args) == 3:\n",
    "        base = max(args)\n",
    "        nums = list(args)\n",
    "        nums.remove(base)\n",
    "        side1,side2 = nums\n",
    "        # find a piece of the base that makes two triangles\n",
    "        # according to equation (for a 3,4,5 triangle)\n",
    "        # 4**2 - y**2 = 3**2 - (5**2 - 2*y*5 + y**2)\n",
    "        base_piece = (side1**2 - side2**2 + base**2)/(2*base)\n",
    "        height = sqrt(side1**2-base_piece**2)\n",
    "        return round(base*height/2,2)\n",
    "        \n",
    "print(simple_areas(3))\n",
    "print(simple_areas(2, 2))\n",
    "print(simple_areas(2, 3)) \n",
    "print(simple_areas(3, 5, 4)) \n",
    "print(simple_areas(1.5, 2.5, 2)) "
   ]
  },
  {
   "cell_type": "markdown",
   "metadata": {},
   "source": [
    "## 3 The greatest common divisor\n",
    "\n",
    "The greatest common divisor (GCD), also known as the greatest common factor of two or more integers (at least one of which is not zero), is the largest positive integer that divides a number without a remainder. For example, the GCD of 8 and 12 is 4.\n",
    "\n",
    "You are given an arbitrary number of positive integers. You should find the greatest common divisor for these numbers."
   ]
  },
  {
   "cell_type": "code",
   "execution_count": 81,
   "metadata": {
    "collapsed": false
   },
   "outputs": [],
   "source": [
    "from collections import Counter,defaultdict\n",
    "\n",
    "def greatest_common_divisor(*args):\n",
    "    all_factors = []\n",
    "    unique_nums = set()\n",
    "    for n in args:\n",
    "        factors = []\n",
    "        i = 2\n",
    "        while i * i <= n:\n",
    "            if n % i:\n",
    "                i += 1\n",
    "            else:\n",
    "                unique_nums.add(i)\n",
    "                factors.append(i)\n",
    "                n //= i\n",
    "        factors.append(n)\n",
    "        all_factors.append(factors)\n",
    "    \n",
    "    counts = []\n",
    "    for factors in all_factors:\n",
    "        counts.append(Counter(factors))\n",
    "        \n",
    "    min_factors = defaultdict(int)\n",
    "    for number in unique_nums:\n",
    "        count_nums = [counter[number] for counter in counts]\n",
    "        min_factors[number] = min(count_nums)\n",
    "        \n",
    "    GCD = 1 \n",
    "    for k,v in min_factors.items():\n",
    "        if v != 0:\n",
    "            GCD *= (k**v) \n",
    "        \n",
    "    return GCD\n",
    "        \n",
    "if __name__ == '__main__':\n",
    "    #These \"asserts\" using only for self-checking and not necessary for auto-testing\n",
    "    assert greatest_common_divisor(6, 4) == 2, \"Simple\"\n",
    "    assert greatest_common_divisor(2, 4, 8) == 2, \"Three arguments\"\n",
    "    assert greatest_common_divisor(2, 3, 5, 7, 11) == 1, \"Prime numbers\"\n",
    "    assert greatest_common_divisor(3, 9, 3, 9) == 3, \"Repeating arguments\""
   ]
  },
  {
   "cell_type": "code",
   "execution_count": 82,
   "metadata": {
    "collapsed": false
   },
   "outputs": [
    {
     "data": {
      "text/plain": [
       "250"
      ]
     },
     "execution_count": 82,
     "metadata": {},
     "output_type": "execute_result"
    }
   ],
   "source": [
    "greatest_common_divisor(1000, 500, 750)"
   ]
  },
  {
   "cell_type": "code",
   "execution_count": null,
   "metadata": {
    "collapsed": true
   },
   "outputs": [],
   "source": [
    "# alternatively\n",
    "\n",
    "def greatest_common_divisor(*args):\n",
    "    from fractions import gcd\n",
    "    from functools import reduce\n",
    "    return reduce(gcd, args)"
   ]
  },
  {
   "cell_type": "code",
   "execution_count": null,
   "metadata": {
    "collapsed": true
   },
   "outputs": [],
   "source": []
  }
 ],
 "metadata": {
  "kernelspec": {
   "display_name": "Python 3",
   "language": "python",
   "name": "python3"
  },
  "language_info": {
   "codemirror_mode": {
    "name": "ipython",
    "version": 3
   },
   "file_extension": ".py",
   "mimetype": "text/x-python",
   "name": "python",
   "nbconvert_exporter": "python",
   "pygments_lexer": "ipython3",
   "version": "3.5.1"
  }
 },
 "nbformat": 4,
 "nbformat_minor": 0
}
