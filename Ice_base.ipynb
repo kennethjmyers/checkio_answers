{
 "cells": [
  {
   "cell_type": "markdown",
   "metadata": {},
   "source": [
    "## 1 Funny Addition\n",
    "\n",
    "We have an array of two positive integers. Add these two numbers together.\n"
   ]
  },
  {
   "cell_type": "code",
   "execution_count": 2,
   "metadata": {
    "collapsed": false
   },
   "outputs": [
    {
     "name": "stdout",
     "output_type": "stream",
     "text": [
      "All ok\n"
     ]
    }
   ],
   "source": [
    "def checkio(data):\n",
    "    return data[0]+data[1]\n",
    "    \n",
    "if __name__ == '__main__':\n",
    "    assert checkio([5, 5]) == 10, 'First'\n",
    "    assert checkio([7, 1]) == 8, 'Second'\n",
    "    print('All ok')"
   ]
  },
  {
   "cell_type": "markdown",
   "metadata": {},
   "source": [
    "## 2 Simple Areas\n",
    "\n",
    "Stephan works with simple forms when constructing something, and he need some programming tools to calculate his expenses. Let's take a trip back to our school days and pull out some simple geometry for this.\n",
    "\n",
    "You should write a function to calculate the area of simple figures: circles, rectangles and triangles. You are give an arbitrary number of arguments and depending on this, the function calculates area for the different figures.\n",
    "\n",
    "One argument -- The diameter of a circle and you need calculate the area of the circle.\n",
    "Two arguments -- The side lengths of a rectangle and you need calculate the area of the rectangle.\n",
    "Three arguments -- The lengths of each side on a triangle and you need calculate the area of the triangle."
   ]
  },
  {
   "cell_type": "code",
   "execution_count": 33,
   "metadata": {
    "collapsed": false
   },
   "outputs": [
    {
     "name": "stdout",
     "output_type": "stream",
     "text": [
      "7.07\n",
      "4\n",
      "6\n",
      "6.0\n",
      "1.5\n"
     ]
    }
   ],
   "source": [
    "from math import pi,sqrt\n",
    "\n",
    "def simple_areas(*args):\n",
    "    if len(args) == 1:\n",
    "        return round(pi*(args[0]/2)**2,2)\n",
    "    \n",
    "    elif len(args) == 2:\n",
    "        return round(args[0]*args[1],2)\n",
    "    elif len(args) == 3:\n",
    "        base = max(args)\n",
    "        nums = list(args)\n",
    "        nums.remove(base)\n",
    "        side1,side2 = nums\n",
    "        # find a piece of the base that makes two triangles\n",
    "        # according to equation (for a 3,4,5 triangle)\n",
    "        # 4**2 - y**2 = 3**2 - (5**2 - 2*y*5 + y**2)\n",
    "        base_piece = (side1**2 - side2**2 + base**2)/(2*base)\n",
    "        height = sqrt(side1**2-base_piece**2)\n",
    "        return round(base*height/2,2)\n",
    "        \n",
    "print(simple_areas(3))\n",
    "print(simple_areas(2, 2))\n",
    "print(simple_areas(2, 3)) \n",
    "print(simple_areas(3, 5, 4)) \n",
    "print(simple_areas(1.5, 2.5, 2)) "
   ]
  },
  {
   "cell_type": "markdown",
   "metadata": {},
   "source": [
    "## 3 The greatest common divisor\n",
    "\n",
    "The greatest common divisor (GCD), also known as the greatest common factor of two or more integers (at least one of which is not zero), is the largest positive integer that divides a number without a remainder. For example, the GCD of 8 and 12 is 4.\n",
    "\n",
    "You are given an arbitrary number of positive integers. You should find the greatest common divisor for these numbers."
   ]
  },
  {
   "cell_type": "code",
   "execution_count": 81,
   "metadata": {
    "collapsed": false
   },
   "outputs": [],
   "source": [
    "from collections import Counter,defaultdict\n",
    "\n",
    "def greatest_common_divisor(*args):\n",
    "    all_factors = []\n",
    "    unique_nums = set()\n",
    "    for n in args:\n",
    "        factors = []\n",
    "        i = 2\n",
    "        while i * i <= n:\n",
    "            if n % i:\n",
    "                i += 1\n",
    "            else:\n",
    "                unique_nums.add(i)\n",
    "                factors.append(i)\n",
    "                n //= i\n",
    "        factors.append(n)\n",
    "        all_factors.append(factors)\n",
    "    \n",
    "    counts = []\n",
    "    for factors in all_factors:\n",
    "        counts.append(Counter(factors))\n",
    "        \n",
    "    min_factors = defaultdict(int)\n",
    "    for number in unique_nums:\n",
    "        count_nums = [counter[number] for counter in counts]\n",
    "        min_factors[number] = min(count_nums)\n",
    "        \n",
    "    GCD = 1 \n",
    "    for k,v in min_factors.items():\n",
    "        if v != 0:\n",
    "            GCD *= (k**v) \n",
    "        \n",
    "    return GCD\n",
    "        \n",
    "if __name__ == '__main__':\n",
    "    #These \"asserts\" using only for self-checking and not necessary for auto-testing\n",
    "    assert greatest_common_divisor(6, 4) == 2, \"Simple\"\n",
    "    assert greatest_common_divisor(2, 4, 8) == 2, \"Three arguments\"\n",
    "    assert greatest_common_divisor(2, 3, 5, 7, 11) == 1, \"Prime numbers\"\n",
    "    assert greatest_common_divisor(3, 9, 3, 9) == 3, \"Repeating arguments\""
   ]
  },
  {
   "cell_type": "code",
   "execution_count": 82,
   "metadata": {
    "collapsed": false
   },
   "outputs": [
    {
     "data": {
      "text/plain": [
       "250"
      ]
     },
     "execution_count": 82,
     "metadata": {},
     "output_type": "execute_result"
    }
   ],
   "source": [
    "greatest_common_divisor(1000, 500, 750)"
   ]
  },
  {
   "cell_type": "code",
   "execution_count": null,
   "metadata": {
    "collapsed": true
   },
   "outputs": [],
   "source": [
    "# alternatively\n",
    "\n",
    "def greatest_common_divisor(*args):\n",
    "    from fractions import gcd\n",
    "    from functools import reduce\n",
    "    return reduce(gcd, args)"
   ]
  },
  {
   "cell_type": "markdown",
   "metadata": {},
   "source": [
    "## 4 Check sum\n",
    "\n",
    "Errors during transcription are rather common. Unintentional keystrokes can cause characters to be rearranged, dropped or inserted in manually typed text.\n",
    "\n",
    "Luckily for the robots, you have ways to solve problems like this. Your CheckSum helps to reduce the likelihood of errors by introducing a final character that is calculated from the previous characters. With the proper reasoning, the final character can always be calculated. This way, when inputs are entered, you can instantly verify that the final character matches the character predicted by CheckSum. If the two do not match, the input is rejected. The end result is that you would see fewer data entry errors.\n",
    "\n",
    "How CheckSum Works:\n",
    "CheckSum reasoning will need map points. This is a definition lookup for how to process the input necessary to generate the final character, which will be enable us instantly verify that our input is correct. In other words, for each sequence character of the input, we are confident there can only be one possible input, all thanks to this final character. \n",
    "\n",
    "The steps you must take to obtain the final character are as follows: \n",
    "From the rightmost input, traverse from right to left, and apply 'map point character lookup' for even-indexed characters.\n",
    "Add map point results for even-indexed characters with the unchanged digits from the original number.\n",
    "Find the remainder of this sum with 10. For an example sum of 67, the remainder is 7. ( 67 modulo 10 = 7 )\n",
    "Your final character should be 0 if the sum is a multiple-of-10, but it should be 10 minus remainder if the sum is not a multiple-of-10.\n",
    "To generate the 'map point character lookup' table: \n",
    "Double the value of a character.\n",
    "If the product of this doubling operation is greater than 9 (e.g: 7 * 2 = 14), reduce it by summing the digits of the product. (i.e., find its digital root. e.g., 10: 1 + 0 = 1, 14: 1 + 4 = 5) Only do this once. Even if the sum is greater than 9, leave it alone."
   ]
  },
  {
   "cell_type": "code",
   "execution_count": 106,
   "metadata": {
    "collapsed": false
   },
   "outputs": [
    {
     "name": "stdout",
     "output_type": "stream",
     "text": [
      "OK, done!\n"
     ]
    }
   ],
   "source": [
    "def reducer(n):\n",
    "    r = 0\n",
    "    while n:\n",
    "        r, n = r + n % 10, n // 10\n",
    "    return r\n",
    "\n",
    "def checkio(data):\n",
    "    clean = [c for c in data if c.isalnum()]\n",
    "    backward_even = clean[::-2]\n",
    "    backward_odds = clean[-2::-2]\n",
    "    final_nums = []\n",
    "    for i in backward_even:\n",
    "        try:\n",
    "            final_nums.append(reducer(int(i)*2))\n",
    "        except ValueError:\n",
    "            final_nums.append(reducer((ord(i)-48)*2))\n",
    "    for i in backward_odds:\n",
    "        try:\n",
    "            final_nums.append(int(i))\n",
    "        except ValueError:\n",
    "            final_nums.append(ord(i)-48)\n",
    "    \n",
    "    summed = sum(final_nums)\n",
    "    last_char = 0 if summed % 10 == 0 else 10-summed%10\n",
    "    return [str(last_char),summed]\n",
    "    \n",
    "\n",
    "#These \"asserts\" using only for self-checking and not necessary for auto-testing\n",
    "if __name__ == '__main__':\n",
    "    assert (checkio(\"799 273 9871\") == [\"3\", 67]), \"First Test\"\n",
    "    assert (checkio(\"139-MT\") == [\"8\", 52]), \"Second Test\"\n",
    "    assert (checkio(\"123\") == [\"0\", 10]), \"Test for zero\"\n",
    "    assert (checkio(\"999_999\") == [\"6\", 54]), \"Third Test\"\n",
    "    assert (checkio(\"+61 820 9231 55\") == [\"3\", 37]), \"Fourth Test\"\n",
    "    assert (checkio(\"VQ/WEWF/NY/8U\") == [\"9\", 201]), \"Fifth Test\"\n",
    "\n",
    "    print(\"OK, done!\")"
   ]
  },
  {
   "cell_type": "markdown",
   "metadata": {},
   "source": [
    "## 5 Counting Tiles\n",
    "\n",
    "Stephan needs some help building a circular landing zone using the ice square tiles for their new Ice Base. Before he converts the area to a construction place, Stephan needs to figure out how many square tiles he will need.\n",
    "\n",
    "Each square tile has size of 1x1 meters. You need to calculate how many whole and partial tiles are needed for a circle with a radius of N meters. The center of the circle will be at the intersection of four tiles. For example: a circle with a radius of 2 metres requires 4 whole tiles and 12 partial tiles."
   ]
  },
  {
   "cell_type": "code",
   "execution_count": 141,
   "metadata": {
    "collapsed": false
   },
   "outputs": [
    {
     "data": {
      "text/plain": [
       "[24, 28]"
      ]
     },
     "execution_count": 141,
     "metadata": {},
     "output_type": "execute_result"
    }
   ],
   "source": [
    "from math import ceil,sqrt\n",
    "from itertools import permutations\n",
    "\n",
    "def checkio(radius):\n",
    "    # equation of circle = x**2 + y**2 = r**2\n",
    "    \n",
    "    upper = ceil(radius)\n",
    "    box_corners = list(range(1,upper+1))\n",
    "    box_corners += [-1*i for i in box_corners]\n",
    "    box_corners += box_corners #double everything for 1,1 2,2 3,3...\n",
    "    corner_coords = set(permutations(box_corners,2))\n",
    "\n",
    "    full_squares = 0\n",
    "    partial_squares = 0\n",
    "    for corner in corner_coords:\n",
    "        if corner[0]**2 + corner[1]**2 <= radius**2:\n",
    "            full_squares += 1\n",
    "            #print('full',corner[0],corner[1])\n",
    "        elif corner[0]**2 + corner[1]**2 > radius**2:\n",
    "            #check if the square diagonal from it is in circle or not\n",
    "            if (abs(corner[0])-1)**2 + (abs(corner[1])-1)**2 < radius**2:\n",
    "                partial_squares +=1\n",
    "\n",
    "    return [full_squares,partial_squares]\n",
    "    \n",
    "'''\n",
    "#These \"asserts\" using only for self-checking and not necessary for auto-testing\n",
    "if __name__ == '__main__':\n",
    "    assert checkio(2) == [4, 12], \"N=2\"\n",
    "    assert checkio(3) == [16, 20], \"N=3\"\n",
    "    assert checkio(2.1) == [4, 20], \"N=2.1\"\n",
    "    assert checkio(2.5) == [12, 20], \"N=2.5\"'''\n",
    "\n",
    "    \n",
    "checkio(3.5)"
   ]
  },
  {
   "cell_type": "markdown",
   "metadata": {},
   "source": [
    "## 6 Oil Pie\n",
    "\n",
    "Sophia had cooked a pie made from oil for her drones and left it in the kitchen. The Drones were returning home in small groups or by themselves and did not see each other upon their return, so each group did not know how many drones had eaten their slice of the pie. Some groups know about how big the pie was after Sophia removed it from the oven, but other groups don't know this and think the remaining part is the entire pie, then take their portion from the remaining. So each group had divided (mentally) the remaining or initial pie at all and took their part. How many parts will remain after all of the drones return?\n",
    "\n",
    "Let’s take a look at an example of how this should work: There are 6 drones. The first group consists of 2 drones. They had divided the pie into 6 parts and took 2/6 of the pie. The remainder of the pie is 2/3 of the entire pie. Next returns a single drone, it doesn’t know about the original size of the pie, so it divides the remaining pie into 6 slices and takes 1 part. This leaves 10/18=5/9. The last group is 3 drones, which heard about the original size of the pie from Sophia. They took half of the original pie, so the remaining is 5/9 - 3/6 = 1/18\n",
    "\n",
    "You are given an ordered array with sizes of the groups in the order they arrived. If a group knows about the initial pie size, then the size is positive. If not, then size will be negative. The recent example will given as (2, -1, 3).\n",
    "\n",
    "You should calculate the size as remaining pie as a fraction from the start size. The result should be represented as two numbers - numerator and denominator. Zero should be represented as (0, 1)."
   ]
  },
  {
   "cell_type": "code",
   "execution_count": 159,
   "metadata": {
    "collapsed": false
   },
   "outputs": [],
   "source": [
    "from fractions import Fraction\n",
    "\n",
    "def divide_pie(groups):\n",
    "    total_drones = sum((abs(x) for x in groups))\n",
    "    remaining_pie = Fraction(1,1)\n",
    "    for drone in groups:\n",
    "\n",
    "        if drone >= 0:\n",
    "            remaining_pie -= Fraction(drone,total_drones)\n",
    "        else:\n",
    "            remaining_pie -= Fraction(abs(drone)*remaining_pie,total_drones)\n",
    "        if remaining_pie <= 0:\n",
    "            return (0,1)\n",
    "    \n",
    "    return (remaining_pie.numerator, remaining_pie.denominator)\n",
    "\n",
    "if __name__ == '__main__':\n",
    "    #These \"asserts\" using only for self-checking and not necessary for auto-testing\n",
    "    assert isinstance((2, -2), (tuple, list)), \"Return tuple or list\"\n",
    "    assert tuple(divide_pie((2, -1, 3))) == (1, 18), \"Example\"\n",
    "    assert tuple(divide_pie((1, 2, 3))) == (0, 1), \"All know about the pie\"\n",
    "    assert tuple(divide_pie((-1, -1, -1))) == (8, 27), \"One by one\"\n",
    "    assert tuple(divide_pie((10,))) == (0, 1), \"All together\""
   ]
  },
  {
   "cell_type": "markdown",
   "metadata": {},
   "source": [
    "## 7 Stair steps\n",
    "\n",
    "There is a staircase with N steps and two platforms; one at the beginning, the other at the end of the stairs. On each step a number is written (ranging from -100 to 100 with the exception of 0.) Zeros are written on both platforms. You start going up the stairs from the first platform, to reach the top on the second one. You can move either to the next step or to the next step plus one. You must find the best path to maximize the sum of numbers on the stairs on your way up and return the final sum."
   ]
  },
  {
   "cell_type": "code",
   "execution_count": 177,
   "metadata": {
    "collapsed": false
   },
   "outputs": [
    {
     "name": "stdout",
     "output_type": "stream",
     "text": [
      "All ok\n"
     ]
    }
   ],
   "source": [
    "class stairs:\n",
    "    def __init__(self):\n",
    "        self.max_sum = -10000000000\n",
    "        \n",
    "    def recurse(self, numbers, current_sum = 0):\n",
    "        if len(numbers) == 0:\n",
    "            if self.max_sum < current_sum:\n",
    "                self.max_sum = current_sum\n",
    "            return\n",
    "        current_sum += numbers[0]\n",
    "        self.recurse(numbers[1:],current_sum)\n",
    "        self.recurse(numbers[2:],current_sum)\n",
    "        return self.max_sum\n",
    "    \n",
    "def checkio(numbers):\n",
    "    numbers.insert(0,0)\n",
    "    numbers.append(0)\n",
    "    return stairs().recurse(numbers)\n",
    "\n",
    "#These \"asserts\" using only for self-checking and not necessary for auto-testing\n",
    "if __name__ == '__main__':\n",
    "    assert checkio([5, -3, -1, 2]) == 6, 'Fifth'\n",
    "    assert checkio([5, 6, -10, -7, 4]) == 8, 'First'\n",
    "    assert checkio([-11, 69, 77, -51, 23, 67, 35, 27, -25, 95]) == 393, 'Second'\n",
    "    assert checkio([-21, -23, -69, -67, 1, 41, 97, 49, 27]) == 125, 'Third'\n",
    "    print('All ok')"
   ]
  },
  {
   "cell_type": "code",
   "execution_count": null,
   "metadata": {
    "collapsed": true
   },
   "outputs": [],
   "source": []
  }
 ],
 "metadata": {
  "kernelspec": {
   "display_name": "Python 3",
   "language": "python",
   "name": "python3"
  },
  "language_info": {
   "codemirror_mode": {
    "name": "ipython",
    "version": 3
   },
   "file_extension": ".py",
   "mimetype": "text/x-python",
   "name": "python",
   "nbconvert_exporter": "python",
   "pygments_lexer": "ipython3",
   "version": "3.5.1"
  }
 },
 "nbformat": 4,
 "nbformat_minor": 0
}
