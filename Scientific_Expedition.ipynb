{
 "cells": [
  {
   "cell_type": "markdown",
   "metadata": {},
   "source": [
    "## 1 Verify Anagrams\n",
    "\n",
    "An anagram is a type of word play, the result of rearranging the letters of a word or phrase to produce a new word or phrase, using all the original letters exactly once. Two words are anagrams to each other if we can get one from another by rearranging the letters. Anagrams are case-insensitive and don't take account whitespaces. For example: \"Gram Ring Mop\" and \"Programming\" are anagrams. But \"Hello\" and \"Ole Oh\" are not.\n",
    "\n",
    "You are given two words or phrase. Try to verify are they anagrams or not."
   ]
  },
  {
   "cell_type": "code",
   "execution_count": 1,
   "metadata": {
    "collapsed": true
   },
   "outputs": [],
   "source": [
    "from collections import Counter\n",
    "\n",
    "def verify_anagrams(first_word, second_word):\n",
    "    return Counter(first_word.replace(' ', '').lower()) == Counter(second_word.replace(' ', '').lower())\n",
    "    \n",
    "    \n",
    "\n",
    "if __name__ == '__main__':\n",
    "    #These \"asserts\" using only for self-checking and not necessary for auto-testing\n",
    "    assert isinstance(verify_anagrams(\"a\", 'z'), bool), \"Boolean!\"\n",
    "    assert verify_anagrams(\"Programming\", \"Gram Ring Mop\") == True, \"Gram of code\"\n",
    "    assert verify_anagrams(\"Hello\", \"Ole Oh\") == False, \"Hello! Ole Oh!\"\n",
    "    assert verify_anagrams(\"Kyoto\", \"Tokyo\") == True, \"The global warming crisis of 3002\""
   ]
  },
  {
   "cell_type": "markdown",
   "metadata": {},
   "source": [
    "## 2 Digit stack\n",
    "\n",
    "In computer science, a stack is a particular kind of data type or collection in which the principal operations in the collection are the addition of an entity to the collection (also known as push) and the removal of an entity (also known as pop). The relation between the push and pop operations is such that the stack is a Last-In-First-Out (LIFO) data structure. In a LIFO data structure, the last element added to the structure must be the first one to be removed. Often a peek, or top operation is also implemented, returning the value of the top element without removing it.\n",
    "\n",
    "We will emulate the stack process with Python. You are given a sequence of commands:\n",
    "- \"PUSH X\" -- add X in the stack, where X is a digit.\n",
    "- \"POP\" -- look and remove the top position. If the stack is empty, then it returns 0 (zero) and does nothing.\n",
    "- \"PEEK\" -- look at the top position. If the stack is empty, then it returns 0 (zero).\n",
    "The stack can only contain digits.\n",
    "\n",
    "You should process all commands and sum all digits which were taken from the stack (\"PEEK\" or \"POP\"). Initial value of the sum is 0 (zero)."
   ]
  },
  {
   "cell_type": "code",
   "execution_count": 6,
   "metadata": {
    "collapsed": false
   },
   "outputs": [],
   "source": [
    "def digit_stack(commands):\n",
    "    stack = []\n",
    "    sum = 0\n",
    "    \n",
    "    for command in commands:\n",
    "        cmd = command.split()\n",
    "        \n",
    "        if cmd[0] == 'PUSH':\n",
    "            stack.append(cmd[1])\n",
    "        elif cmd[0] == 'POP':\n",
    "            if len(stack) == 0:\n",
    "                sum += 0\n",
    "            else:\n",
    "                sum += int(stack.pop())\n",
    "        elif cmd[0] == 'PEEK':\n",
    "            if len(stack) == 0:\n",
    "                sum += 0\n",
    "            else:\n",
    "                sum += int(stack[-1])\n",
    "                \n",
    "    return sum\n",
    "\n",
    "if __name__ == '__main__':\n",
    "    #These \"asserts\" using only for self-checking and not necessary for auto-testing\n",
    "    assert digit_stack([\"PUSH 3\", \"POP\", \"POP\", \"PUSH 4\", \"PEEK\",\n",
    "                        \"PUSH 9\", \"PUSH 0\", \"PEEK\", \"POP\", \"PUSH 1\", \"PEEK\"]) == 8, \"Example\"\n",
    "    assert digit_stack([\"POP\", \"POP\"]) == 0, \"pop, pop, zero\"\n",
    "    assert digit_stack([\"PUSH 9\", \"PUSH 9\", \"POP\"]) == 9, \"Push the button\"\n",
    "    assert digit_stack([]) == 0, \"Nothing\""
   ]
  },
  {
   "cell_type": "markdown",
   "metadata": {},
   "source": [
    "## 3 Transposed Matrix\n",
    "\n",
    "In linear algebra, the transpose of a matrix A is another matrix AT (also written A′, Atr,tA or At) created by any one of the following equivalent actions:\n",
    "\n",
    "reflect A over its main diagonal (which runs from top-left to bottom-right) to obtain AT\n",
    "write the rows of A as the columns of AT\n",
    "write the columns of A as the rows of AT\n",
    "Formally, the ith row, jth column element of AT is the jth row, ith column element of A:\n",
    "\n",
    "[AT]i j = [A]j i\n",
    "\n",
    "If A is an m × n matrix then AT is an n × m matrix.\n",
    "\n",
    "You have been given a matrix as a 2D list with integers. Your task is to return a transposed matrix based on input."
   ]
  },
  {
   "cell_type": "code",
   "execution_count": 7,
   "metadata": {
    "collapsed": true
   },
   "outputs": [],
   "source": [
    "def checkio(data):\n",
    "    return [[row[i] for row in data] for i in range(len(data[0]))]\n",
    "\n",
    "#These \"asserts\" using only for self-checking and not necessary for auto-testing\n",
    "if __name__ == '__main__':\n",
    "    assert isinstance(checkio([[0]]).pop(), list) is True, \"Match types\"\n",
    "    assert checkio([[1, 2, 3],\n",
    "                    [4, 5, 6],\n",
    "                    [7, 8, 9]]) == [[1, 4, 7],\n",
    "                                    [2, 5, 8],\n",
    "                                    [3, 6, 9]], \"Square matrix\"\n",
    "    assert checkio([[1, 4, 3],\n",
    "                    [8, 2, 6],\n",
    "                    [7, 8, 3],\n",
    "                    [4, 9, 6],\n",
    "                    [7, 8, 1]]) == [[1, 8, 7, 4, 7],\n",
    "                                    [4, 2, 8, 9, 8],\n",
    "                                    [3, 6, 3, 6, 1]], \"Rectangle matrix\"\n"
   ]
  },
  {
   "cell_type": "markdown",
   "metadata": {},
   "source": [
    "## 4 Weekend power\n",
    "\n",
    "Sofia has given you a schedule and two dates and told you she needs help planning her weekends. She has asked you to count each day of rest (Saturday and Sunday) starting from the initial date to final date. You should count the initial and final dates if they fall on a Saturday or Sunday.\n",
    "\n",
    "The dates are given as datetime.date ([Read about this module here](https://docs.python.org/2/library/datetime.html#date-objects)). The result is an integer."
   ]
  },
  {
   "cell_type": "code",
   "execution_count": 35,
   "metadata": {
    "collapsed": false
   },
   "outputs": [],
   "source": [
    "from datetime import date, timedelta\n",
    "\n",
    "def checkio(from_date, to_date):\n",
    "    weekends = 0\n",
    "    for i in range((to_date-from_date).days+1):\n",
    "        test_date = from_date+timedelta(days=i)\n",
    "        if test_date.weekday() >= 5:\n",
    "            weekends += 1\n",
    "    \n",
    "    return weekends\n",
    "    \n",
    "\n",
    "#These \"asserts\" using only for self-checking and not necessary for auto-testing\n",
    "if __name__ == '__main__':\n",
    "    assert checkio(date(2013, 9, 18), date(2013, 9, 23)) == 2, \"1st example\"\n",
    "    assert checkio(date(2013, 1, 1), date(2013, 2, 1)) == 8, \"2nd example\"\n",
    "    assert checkio(date(2013, 2, 2), date(2013, 2, 3)) == 2, \"3rd example\""
   ]
  },
  {
   "cell_type": "markdown",
   "metadata": {},
   "source": [
    "## 5 The angles of a triangle\n",
    "\n",
    "You are given the lengths for each side on a triangle. You need to find all three angles for this triangle. If the given side lengths cannot form a triangle (or form a degenerated triangle), then you must return all angles as 0 (zero). The angles should be represented as a list of integers in ascending order. Each angle is measured in degrees and rounded to the nearest integer number (Standard mathematical rounding)."
   ]
  },
  {
   "cell_type": "code",
   "execution_count": 43,
   "metadata": {
    "collapsed": false
   },
   "outputs": [],
   "source": [
    "from math import acos, degrees\n",
    "\n",
    "def checkio(a, b, c):\n",
    "    try:\n",
    "        angles = sorted([round(degrees(acos((sides[0]**2 + sides[1]**2 - sides[2]**2)\n",
    "        /(2*sides[0]*sides[1])))) for sides in [[a,b,c],[b,c,a],[c,a,b]]])\n",
    "        \n",
    "        for a in angles:\n",
    "            if a <= 0 or a >= 180:\n",
    "                return [0,0,0]\n",
    "            \n",
    "        return angles\n",
    "    except:\n",
    "        return [0,0,0]\n",
    "\n",
    "#These \"asserts\" using only for self-checking and not necessary for auto-testing\n",
    "if __name__ == '__main__':\n",
    "    assert checkio(4, 4, 4) == [60, 60, 60], \"All sides are equal\"\n",
    "    assert checkio(3, 4, 5) == [37, 53, 90], \"Egyptian triangle\"\n",
    "    assert checkio(2, 2, 5) == [0, 0, 0], \"It's can not be a triangle\""
   ]
  },
  {
   "cell_type": "markdown",
   "metadata": {},
   "source": [
    "## 6 Morse clock\n",
    "\n",
    "Help Stephen to create a module for converting a normal time string to a morse time string. As you can see in the illustration, a gray circle means on, while a white circle means off. Every digit in the time string contains a different number of slots. The first digit for the hours has a length of 2 while the second digit for the hour has a length of 4. The first digits for the minutes and seconds have a length of 3 while the second digits for the minutes and seconds have a length of 4. Every digit in the time is converted to binary representation. You will convert every on (or 1) signal to dash (\"-\") and every off (or 0) signal to dot (\".\").\n",
    "\n",
    "An time string could be in the follow formats: \"hh:mm:ss\", \"h:m:s\" or \"hh:m:ss\". The \"missing\" digits are zeroes. For example, \"1:2:3\" is the same as \"01:02:03\".\n",
    "\n",
    "The result will be a morse time string with specific format:\n",
    "\n",
    "\"h h : m m : s s\"\n",
    "\n",
    "where each digits represented as sequence of \".\" and \"-\""
   ]
  },
  {
   "cell_type": "code",
   "execution_count": 83,
   "metadata": {
    "collapsed": false
   },
   "outputs": [
    {
     "name": "stdout",
     "output_type": "stream",
     "text": [
      ".- .... : .-- .--- : -.. -..-\n",
      "-. ...- : .-- .-.. : -.- .--.\n",
      ".. .... : ... ...- : ... ..-.\n",
      "-. ..-- : -.- -..- : -.- -..-\n"
     ]
    }
   ],
   "source": [
    "def checkio(time_string):\n",
    "    hms = time_string.split(':')\n",
    "    morse = ''\n",
    "    for i,t in enumerate(hms):\n",
    "        if len(t) < 2:\n",
    "            t = '0' + t\n",
    "        if i == 0:\n",
    "            morse += format(int(t[0]),'#04b')[2:] + ' ' + format(int(t[1]),'#06b')[2:]\n",
    "        elif i == 1:\n",
    "            morse += ' : ' + format(int(t[0]),'#05b')[2:] + ' ' + format(int(t[1]),'#06b')[2:]\n",
    "        elif i == 2:\n",
    "            morse += ' : ' + format(int(t[0]),'#05b')[2:] + ' ' + format(int(t[1]),'#06b')[2:]\n",
    "    \n",
    "    #print(morse.replace('1','-').replace('0','.'))\n",
    "    \n",
    "    return morse.replace('1','-').replace('0','.')\n",
    "\n",
    "if __name__ == '__main__':\n",
    "    #These \"asserts\" using only for self-checking and not necessary for auto-testing\n",
    "    assert checkio(\"10:37:49\") == \".- .... : .-- .--- : -.. -..-\", \"First Test\"\n",
    "    assert checkio(\"21:34:56\") == \"-. ...- : .-- .-.. : -.- .--.\", \"Second Test\"\n",
    "    assert checkio(\"00:1:02\") == \".. .... : ... ...- : ... ..-.\", \"Third Test\"\n",
    "    assert checkio(\"23:59:59\") == \"-. ..-- : -.- -..- : -.- -..-\", \"Fourth Test\""
   ]
  },
  {
   "cell_type": "code",
   "execution_count": null,
   "metadata": {
    "collapsed": true
   },
   "outputs": [],
   "source": []
  }
 ],
 "metadata": {
  "kernelspec": {
   "display_name": "Python 3",
   "language": "python",
   "name": "python3"
  },
  "language_info": {
   "codemirror_mode": {
    "name": "ipython",
    "version": 3
   },
   "file_extension": ".py",
   "mimetype": "text/x-python",
   "name": "python",
   "nbconvert_exporter": "python",
   "pygments_lexer": "ipython3",
   "version": "3.5.1"
  }
 },
 "nbformat": 4,
 "nbformat_minor": 0
}
