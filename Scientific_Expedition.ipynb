{
 "cells": [
  {
   "cell_type": "markdown",
   "metadata": {},
   "source": [
    "## 1 Verify Anagrams\n",
    "\n",
    "An anagram is a type of word play, the result of rearranging the letters of a word or phrase to produce a new word or phrase, using all the original letters exactly once. Two words are anagrams to each other if we can get one from another by rearranging the letters. Anagrams are case-insensitive and don't take account whitespaces. For example: \"Gram Ring Mop\" and \"Programming\" are anagrams. But \"Hello\" and \"Ole Oh\" are not.\n",
    "\n",
    "You are given two words or phrase. Try to verify are they anagrams or not."
   ]
  },
  {
   "cell_type": "code",
   "execution_count": 1,
   "metadata": {
    "collapsed": true
   },
   "outputs": [],
   "source": [
    "from collections import Counter\n",
    "\n",
    "def verify_anagrams(first_word, second_word):\n",
    "    return Counter(first_word.replace(' ', '').lower()) == Counter(second_word.replace(' ', '').lower())\n",
    "    \n",
    "    \n",
    "\n",
    "if __name__ == '__main__':\n",
    "    #These \"asserts\" using only for self-checking and not necessary for auto-testing\n",
    "    assert isinstance(verify_anagrams(\"a\", 'z'), bool), \"Boolean!\"\n",
    "    assert verify_anagrams(\"Programming\", \"Gram Ring Mop\") == True, \"Gram of code\"\n",
    "    assert verify_anagrams(\"Hello\", \"Ole Oh\") == False, \"Hello! Ole Oh!\"\n",
    "    assert verify_anagrams(\"Kyoto\", \"Tokyo\") == True, \"The global warming crisis of 3002\""
   ]
  },
  {
   "cell_type": "markdown",
   "metadata": {},
   "source": [
    "## 2 Digit stack\n",
    "\n",
    "In computer science, a stack is a particular kind of data type or collection in which the principal operations in the collection are the addition of an entity to the collection (also known as push) and the removal of an entity (also known as pop). The relation between the push and pop operations is such that the stack is a Last-In-First-Out (LIFO) data structure. In a LIFO data structure, the last element added to the structure must be the first one to be removed. Often a peek, or top operation is also implemented, returning the value of the top element without removing it.\n",
    "\n",
    "We will emulate the stack process with Python. You are given a sequence of commands:\n",
    "- \"PUSH X\" -- add X in the stack, where X is a digit.\n",
    "- \"POP\" -- look and remove the top position. If the stack is empty, then it returns 0 (zero) and does nothing.\n",
    "- \"PEEK\" -- look at the top position. If the stack is empty, then it returns 0 (zero).\n",
    "The stack can only contain digits.\n",
    "\n",
    "You should process all commands and sum all digits which were taken from the stack (\"PEEK\" or \"POP\"). Initial value of the sum is 0 (zero)."
   ]
  },
  {
   "cell_type": "code",
   "execution_count": 6,
   "metadata": {
    "collapsed": false
   },
   "outputs": [],
   "source": [
    "def digit_stack(commands):\n",
    "    stack = []\n",
    "    sum = 0\n",
    "    \n",
    "    for command in commands:\n",
    "        cmd = command.split()\n",
    "        \n",
    "        if cmd[0] == 'PUSH':\n",
    "            stack.append(cmd[1])\n",
    "        elif cmd[0] == 'POP':\n",
    "            if len(stack) == 0:\n",
    "                sum += 0\n",
    "            else:\n",
    "                sum += int(stack.pop())\n",
    "        elif cmd[0] == 'PEEK':\n",
    "            if len(stack) == 0:\n",
    "                sum += 0\n",
    "            else:\n",
    "                sum += int(stack[-1])\n",
    "                \n",
    "    return sum\n",
    "\n",
    "if __name__ == '__main__':\n",
    "    #These \"asserts\" using only for self-checking and not necessary for auto-testing\n",
    "    assert digit_stack([\"PUSH 3\", \"POP\", \"POP\", \"PUSH 4\", \"PEEK\",\n",
    "                        \"PUSH 9\", \"PUSH 0\", \"PEEK\", \"POP\", \"PUSH 1\", \"PEEK\"]) == 8, \"Example\"\n",
    "    assert digit_stack([\"POP\", \"POP\"]) == 0, \"pop, pop, zero\"\n",
    "    assert digit_stack([\"PUSH 9\", \"PUSH 9\", \"POP\"]) == 9, \"Push the button\"\n",
    "    assert digit_stack([]) == 0, \"Nothing\""
   ]
  },
  {
   "cell_type": "markdown",
   "metadata": {},
   "source": [
    "## 3 Transposed Matrix\n",
    "\n",
    "In linear algebra, the transpose of a matrix A is another matrix AT (also written A′, Atr,tA or At) created by any one of the following equivalent actions:\n",
    "\n",
    "reflect A over its main diagonal (which runs from top-left to bottom-right) to obtain AT\n",
    "write the rows of A as the columns of AT\n",
    "write the columns of A as the rows of AT\n",
    "Formally, the ith row, jth column element of AT is the jth row, ith column element of A:\n",
    "\n",
    "[AT]i j = [A]j i\n",
    "\n",
    "If A is an m × n matrix then AT is an n × m matrix.\n",
    "\n",
    "You have been given a matrix as a 2D list with integers. Your task is to return a transposed matrix based on input."
   ]
  },
  {
   "cell_type": "code",
   "execution_count": 7,
   "metadata": {
    "collapsed": true
   },
   "outputs": [],
   "source": [
    "def checkio(data):\n",
    "    return [[row[i] for row in data] for i in range(len(data[0]))]\n",
    "\n",
    "#These \"asserts\" using only for self-checking and not necessary for auto-testing\n",
    "if __name__ == '__main__':\n",
    "    assert isinstance(checkio([[0]]).pop(), list) is True, \"Match types\"\n",
    "    assert checkio([[1, 2, 3],\n",
    "                    [4, 5, 6],\n",
    "                    [7, 8, 9]]) == [[1, 4, 7],\n",
    "                                    [2, 5, 8],\n",
    "                                    [3, 6, 9]], \"Square matrix\"\n",
    "    assert checkio([[1, 4, 3],\n",
    "                    [8, 2, 6],\n",
    "                    [7, 8, 3],\n",
    "                    [4, 9, 6],\n",
    "                    [7, 8, 1]]) == [[1, 8, 7, 4, 7],\n",
    "                                    [4, 2, 8, 9, 8],\n",
    "                                    [3, 6, 3, 6, 1]], \"Rectangle matrix\"\n"
   ]
  },
  {
   "cell_type": "markdown",
   "metadata": {},
   "source": [
    "## 4 Weekend power\n",
    "\n",
    "Sofia has given you a schedule and two dates and told you she needs help planning her weekends. She has asked you to count each day of rest (Saturday and Sunday) starting from the initial date to final date. You should count the initial and final dates if they fall on a Saturday or Sunday.\n",
    "\n",
    "The dates are given as datetime.date ([Read about this module here](https://docs.python.org/2/library/datetime.html#date-objects)). The result is an integer."
   ]
  },
  {
   "cell_type": "code",
   "execution_count": 35,
   "metadata": {
    "collapsed": false
   },
   "outputs": [],
   "source": [
    "from datetime import date, timedelta\n",
    "\n",
    "def checkio(from_date, to_date):\n",
    "    weekends = 0\n",
    "    for i in range((to_date-from_date).days+1):\n",
    "        test_date = from_date+timedelta(days=i)\n",
    "        if test_date.weekday() >= 5:\n",
    "            weekends += 1\n",
    "    \n",
    "    return weekends\n",
    "    \n",
    "\n",
    "#These \"asserts\" using only for self-checking and not necessary for auto-testing\n",
    "if __name__ == '__main__':\n",
    "    assert checkio(date(2013, 9, 18), date(2013, 9, 23)) == 2, \"1st example\"\n",
    "    assert checkio(date(2013, 1, 1), date(2013, 2, 1)) == 8, \"2nd example\"\n",
    "    assert checkio(date(2013, 2, 2), date(2013, 2, 3)) == 2, \"3rd example\""
   ]
  },
  {
   "cell_type": "markdown",
   "metadata": {},
   "source": [
    "## 5 The angles of a triangle\n",
    "\n",
    "You are given the lengths for each side on a triangle. You need to find all three angles for this triangle. If the given side lengths cannot form a triangle (or form a degenerated triangle), then you must return all angles as 0 (zero). The angles should be represented as a list of integers in ascending order. Each angle is measured in degrees and rounded to the nearest integer number (Standard mathematical rounding)."
   ]
  },
  {
   "cell_type": "code",
   "execution_count": 43,
   "metadata": {
    "collapsed": false
   },
   "outputs": [],
   "source": [
    "from math import acos, degrees\n",
    "\n",
    "def checkio(a, b, c):\n",
    "    try:\n",
    "        angles = sorted([round(degrees(acos((sides[0]**2 + sides[1]**2 - sides[2]**2)\n",
    "        /(2*sides[0]*sides[1])))) for sides in [[a,b,c],[b,c,a],[c,a,b]]])\n",
    "        \n",
    "        for a in angles:\n",
    "            if a <= 0 or a >= 180:\n",
    "                return [0,0,0]\n",
    "            \n",
    "        return angles\n",
    "    except:\n",
    "        return [0,0,0]\n",
    "\n",
    "#These \"asserts\" using only for self-checking and not necessary for auto-testing\n",
    "if __name__ == '__main__':\n",
    "    assert checkio(4, 4, 4) == [60, 60, 60], \"All sides are equal\"\n",
    "    assert checkio(3, 4, 5) == [37, 53, 90], \"Egyptian triangle\"\n",
    "    assert checkio(2, 2, 5) == [0, 0, 0], \"It's can not be a triangle\""
   ]
  },
  {
   "cell_type": "markdown",
   "metadata": {},
   "source": [
    "## 6 Morse clock\n",
    "\n",
    "Help Stephen to create a module for converting a normal time string to a morse time string. As you can see in the illustration, a gray circle means on, while a white circle means off. Every digit in the time string contains a different number of slots. The first digit for the hours has a length of 2 while the second digit for the hour has a length of 4. The first digits for the minutes and seconds have a length of 3 while the second digits for the minutes and seconds have a length of 4. Every digit in the time is converted to binary representation. You will convert every on (or 1) signal to dash (\"-\") and every off (or 0) signal to dot (\".\").\n",
    "\n",
    "An time string could be in the follow formats: \"hh:mm:ss\", \"h:m:s\" or \"hh:m:ss\". The \"missing\" digits are zeroes. For example, \"1:2:3\" is the same as \"01:02:03\".\n",
    "\n",
    "The result will be a morse time string with specific format:\n",
    "\n",
    "\"h h : m m : s s\"\n",
    "\n",
    "where each digits represented as sequence of \".\" and \"-\""
   ]
  },
  {
   "cell_type": "code",
   "execution_count": 83,
   "metadata": {
    "collapsed": false
   },
   "outputs": [
    {
     "name": "stdout",
     "output_type": "stream",
     "text": [
      ".- .... : .-- .--- : -.. -..-\n",
      "-. ...- : .-- .-.. : -.- .--.\n",
      ".. .... : ... ...- : ... ..-.\n",
      "-. ..-- : -.- -..- : -.- -..-\n"
     ]
    }
   ],
   "source": [
    "def checkio(time_string):\n",
    "    hms = time_string.split(':')\n",
    "    morse = ''\n",
    "    for i,t in enumerate(hms):\n",
    "        if len(t) < 2:\n",
    "            t = '0' + t\n",
    "        if i == 0:\n",
    "            morse += format(int(t[0]),'#04b')[2:] + ' ' + format(int(t[1]),'#06b')[2:]\n",
    "        elif i == 1:\n",
    "            morse += ' : ' + format(int(t[0]),'#05b')[2:] + ' ' + format(int(t[1]),'#06b')[2:]\n",
    "        elif i == 2:\n",
    "            morse += ' : ' + format(int(t[0]),'#05b')[2:] + ' ' + format(int(t[1]),'#06b')[2:]\n",
    "    \n",
    "    #print(morse.replace('1','-').replace('0','.'))\n",
    "    \n",
    "    return morse.replace('1','-').replace('0','.')\n",
    "\n",
    "if __name__ == '__main__':\n",
    "    #These \"asserts\" using only for self-checking and not necessary for auto-testing\n",
    "    assert checkio(\"10:37:49\") == \".- .... : .-- .--- : -.. -..-\", \"First Test\"\n",
    "    assert checkio(\"21:34:56\") == \"-. ...- : .-- .-.. : -.- .--.\", \"Second Test\"\n",
    "    assert checkio(\"00:1:02\") == \".. .... : ... ...- : ... ..-.\", \"Third Test\"\n",
    "    assert checkio(\"23:59:59\") == \"-. ..-- : -.- -..- : -.- -..-\", \"Fourth Test\""
   ]
  },
  {
   "cell_type": "markdown",
   "metadata": {},
   "source": [
    "## 7 Network attack\n",
    "\n",
    "We are given information about the connections in the network and the security level for each computer. Security level is the time (in minutes) that is required for the virus to capture a machine. Capture time is not related to the number of infected computers attacking the machine. Infection start from the 0th computer (which is already infected). Connections in the network are undirected. Security levels are not equal to zero (except infected).\n",
    "\n",
    "Information about a network is represented as a matrix NxN size, where N is a number of computers. If ith computer connected with jth computer, then matrix[i][j] == matrix[j][i] == 1, else 0. Security levels are placed in the main matrix diagonal, so matrix[i][i] is the security level for the ith computer."
   ]
  },
  {
   "cell_type": "code",
   "execution_count": 102,
   "metadata": {
    "collapsed": false
   },
   "outputs": [],
   "source": [
    "def capture(matrix):\n",
    "    diag = [matrix[i][i] for i in range(len(matrix))]\n",
    "    time = 0\n",
    "\n",
    "    # The general idea is to keep finding anything\n",
    "    # that is infected and to find the minimum security\n",
    "    # of anything adjacent to anything that is infected\n",
    "    # and subtracting that value from all other adjacents\n",
    "    # and adding that time to the cumulative time\n",
    "    while diag != [0]*len(matrix):\n",
    "        min_time = 1000000\n",
    "        adjacents = set()\n",
    "        for i, level in enumerate(diag):\n",
    "            if level == 0:\n",
    "                for j, val in enumerate(matrix[i]):\n",
    "                    if j != i and val == 1:\n",
    "                        adjacents.add(j)\n",
    "                        if diag[j] < min_time and diag[j]!=0:\n",
    "                            min_time = diag[j]\n",
    "                            \n",
    "        time += min_time\n",
    "        diag = [x if x == 0 else x-min_time if j in adjacents \n",
    "                else x for j,x in enumerate(diag)]\n",
    "        \n",
    "    return time\n",
    "\n",
    "if __name__ == '__main__':\n",
    "    #These \"asserts\" using only for self-checking and not necessary for auto-testing\n",
    "    assert capture([[0, 1, 0, 1, 0, 1],\n",
    "                    [1, 8, 1, 0, 0, 0],\n",
    "                    [0, 1, 2, 0, 0, 1],\n",
    "                    [1, 0, 0, 1, 1, 0],\n",
    "                    [0, 0, 0, 1, 3, 1],\n",
    "                    [1, 0, 1, 0, 1, 2]]) == 8, \"Base example\"\n",
    "    assert capture([[0, 1, 0, 1, 0, 1],\n",
    "                    [1, 1, 1, 0, 0, 0],\n",
    "                    [0, 1, 2, 0, 0, 1],\n",
    "                    [1, 0, 0, 1, 1, 0],\n",
    "                    [0, 0, 0, 1, 3, 1],\n",
    "                    [1, 0, 1, 0, 1, 2]]) == 4, \"Low security\"\n",
    "    assert capture([[0, 1, 1],\n",
    "                    [1, 9, 1],\n",
    "                    [1, 1, 9]]) == 9, \"Small\""
   ]
  },
  {
   "cell_type": "markdown",
   "metadata": {},
   "source": [
    "# 8 The square chest\n",
    "\n",
    "On the chest keypad is a grid of numbered dots. The grid is comprised of a square shaped array of dots and contains lines that connect some pairs of adjacent dots. The answer to the code is the number of squares that are formed by these lines. For example, in the figure shown below, there are 3 squares: 2 small squares and 1 medium square.\n",
    "\n",
    "The dots are marked by the numbers 1 through 16. The endpoints of the lines are represented by lists of two numbers."
   ]
  },
  {
   "cell_type": "code",
   "execution_count": 116,
   "metadata": {
    "collapsed": false
   },
   "outputs": [],
   "source": [
    "def find_box(starting_edge, lines_list):\n",
    "    lines_set = set(tuple(sorted(edge)) for edge in lines_list)\n",
    "    new_start_edge = tuple(sorted(starting_edge))\n",
    "    count = 0\n",
    "    \n",
    "    # 1x1 box\n",
    "    if (new_start_edge[0]+1,new_start_edge[0]+5) in lines_set\\\n",
    "        and (new_start_edge[0]+4,new_start_edge[0]+5) in lines_set\\\n",
    "        and (new_start_edge[0],new_start_edge[0]+4) in lines_set:\n",
    "        count += 1\n",
    "        \n",
    "    # 2x2 box\n",
    "    if new_start_edge in [(1,2),(2,3),(5,6),(6,7)]:\n",
    "        if (new_start_edge[0]+1, new_start_edge[0]+2) in lines_set\\\n",
    "            and (new_start_edge[0]+2, new_start_edge[0]+6) in lines_set\\\n",
    "            and (new_start_edge[0]+6, new_start_edge[0]+10) in lines_set\\\n",
    "            and (new_start_edge[0]+9, new_start_edge[0]+10) in lines_set\\\n",
    "            and (new_start_edge[0]+8, new_start_edge[0]+9) in lines_set\\\n",
    "            and (new_start_edge[0]+4, new_start_edge[0]+8) in lines_set\\\n",
    "            and (new_start_edge[0], new_start_edge[0]+4) in lines_set:\n",
    "            count += 1\n",
    "    \n",
    "    # 3x3 box\n",
    "    if new_start_edge == (1,2):\n",
    "        if (new_start_edge[0]+1, new_start_edge[0]+2) in lines_set\\\n",
    "            and (new_start_edge[0]+2, new_start_edge[0]+3) in lines_set\\\n",
    "            and (new_start_edge[0]+3, new_start_edge[0]+7) in lines_set\\\n",
    "            and (new_start_edge[0]+7, new_start_edge[0]+11) in lines_set\\\n",
    "            and (new_start_edge[0]+11, new_start_edge[0]+15) in lines_set\\\n",
    "            and (new_start_edge[0]+14, new_start_edge[0]+15) in lines_set\\\n",
    "            and (new_start_edge[0]+13, new_start_edge[0]+14) in lines_set\\\n",
    "            and (new_start_edge[0]+12, new_start_edge[0]+13) in lines_set\\\n",
    "            and (new_start_edge[0]+8, new_start_edge[0]+12) in lines_set\\\n",
    "            and (new_start_edge[0]+4, new_start_edge[0]+8) in lines_set\\\n",
    "            and (new_start_edge[0], new_start_edge[0]+4) in lines_set:\n",
    "            count += 1\n",
    "    \n",
    "    return count\n",
    "\n",
    "def checkio(lines_list):\n",
    "    horiz = [edge for edge in lines_list if abs(edge[1]-edge[0])==1]\n",
    "    verts = [edge for edge in lines_list if abs(edge[1]-edge[0])==4]\n",
    "    box_count = 0\n",
    "    \n",
    "    for edge in horiz:\n",
    "        #skip bottom edges\n",
    "        if edge[0] not in [13,14,15,16]:\n",
    "            box_count += find_box(edge, lines_list)\n",
    "            \n",
    "    return box_count\n",
    "\n",
    "if __name__ == '__main__':\n",
    "    assert (checkio([[1, 2], [3, 4], [1, 5], [2, 6], [4, 8], [5, 6], [6, 7],\n",
    "                     [7, 8], [6, 10], [7, 11], [8, 12], [10, 11],\n",
    "                     [10, 14], [12, 16], [14, 15], [15, 16]]) == 3), \"First, from description\"\n",
    "    assert (checkio([[1, 2], [2, 3], [3, 4], [1, 5], [4, 8],\n",
    "                     [6, 7], [5, 9], [6, 10], [7, 11], [8, 12],\n",
    "                     [9, 13], [10, 11], [12, 16], [13, 14], [14, 15], [15, 16]]) == 2), \"Second, from description\"\n",
    "    assert (checkio([[1, 2], [1, 5], [2, 6], [5, 6]]) == 1), \"Third, one small square\"\n",
    "    assert (checkio([[1, 2], [1, 5], [2, 6], [5, 9], [6, 10], [9, 10]]) == 0), \"Fourth, it's not square\"\n",
    "    assert (checkio([[16, 15], [16, 12], [15, 11], [11, 10],\n",
    "                     [10, 14], [14, 13], [13, 9]]) == 0), \"Fifth, snake\""
   ]
  },
  {
   "cell_type": "markdown",
   "metadata": {},
   "source": [
    "## 9 friendly number\n",
    "\n",
    "Long numbers can be made to look nicer, so let’s write some code to do just that.\n",
    "\n",
    "You should write a function for converting a number to string using several rules. First of all, you will need to cut the number with a given base (base argument; default 1000). The value is a float number with decimal after the point (decimals argument; default 0). For the value, use the rounding towards zero rule (5.6⇒5, -5.6⇒-5) if the decimal = 0, otherwise use the standard rounding procedure. If the number of decimals is greater than the current number of digits after dot, trail value with zeroes. The number should be a value with letters designating the power. You will be given a list of power designations (powers argument; default ['', 'k', 'M', 'G', 'T', 'P', 'E', 'Z', 'Y']). If you are given suffix (suffix argument; default ‘’) , then you must append it. If you don’t have enough powers - stay at the maximum. And zero is always zero without powers, but with suffix.\n",
    "\n",
    "Let's look at examples. It will be simpler.\n",
    "\n",
    "n=102\n",
    "\n",
    "result: \"102\", the base is default 1000 and 102 is lower this base.\n",
    "\n",
    "n=10240\n",
    "\n",
    "result: \"10k\", the base is default 1000 and rounding down.\n",
    "\n",
    "n=12341234, decimals=1\n",
    "\n",
    "result: \"12.3M\", one digit after the dot.\n",
    "\n",
    "n=12000000, decimals=3\n",
    "\n",
    "result: \"12.000M\", trailing zeros.\n",
    "\n",
    "n=12461, decimals=1\n",
    "\n",
    "result: \"12.5k\", standard rounding.\n",
    "\n",
    "n=1024000000, base=1024, suffix='iB'\n",
    "\n",
    "result: '976MiB', the different base and the suffix.\n",
    "\n",
    "n=-150, base=100, powers=['', 'd', 'D']\n",
    "\n",
    "result: '-1d', the negative number and rounding towards zero.\n",
    "\n",
    "n=-155, base=100, decimals=1, powers=['', 'd', 'D']\n",
    "\n",
    "result: '-1.6d', the negative number and standard rounding.\n",
    "\n",
    "n=255000000000, powers=['', 'k', 'M']\n",
    "\n",
    "result: '255000M', there is not enough powers.\n"
   ]
  },
  {
   "cell_type": "code",
   "execution_count": 163,
   "metadata": {
    "collapsed": false
   },
   "outputs": [],
   "source": [
    "from decimal import Decimal\n",
    "\n",
    "def friendly_number(number, base=1000, decimals=0, suffix='',\n",
    "                    powers=['', 'k', 'M', 'G', 'T', 'P', 'E', 'Z', 'Y']):\n",
    "    count = 0\n",
    "    while abs(number)/(base**count) >= base and count < len(powers)-1:\n",
    "        count += 1\n",
    "    \n",
    "    number /= base**count\n",
    "    \n",
    "    if decimals == 0:\n",
    "        number = int(number)\n",
    "    else:\n",
    "        number = Decimal(round(number,decimals)).quantize(Decimal(str(10**(-decimals))))\n",
    "\n",
    "    return str(number)+powers[count]+suffix\n",
    "\n",
    "#These \"asserts\" using only for self-checking and not necessary for auto-testing\n",
    "if __name__ == '__main__':\n",
    "    assert friendly_number(102) == '102', '102'\n",
    "    assert friendly_number(10240) == '10k', '10k'\n",
    "    assert friendly_number(12341234, decimals=1) == '12.3M', '12.3M'\n",
    "    assert friendly_number(12461, decimals=1) == '12.5k', '12.5k'\n",
    "    assert friendly_number(1024000000, base=1024, suffix='iB') == '976MiB', '976MiB'"
   ]
  },
  {
   "cell_type": "code",
   "execution_count": 164,
   "metadata": {
    "collapsed": false
   },
   "outputs": [
    {
     "data": {
      "text/plain": [
       "'100000000Y'"
      ]
     },
     "execution_count": 164,
     "metadata": {},
     "output_type": "execute_result"
    }
   ],
   "source": [
    "friendly_number(10**32)"
   ]
  },
  {
   "cell_type": "code",
   "execution_count": null,
   "metadata": {
    "collapsed": true
   },
   "outputs": [],
   "source": []
  }
 ],
 "metadata": {
  "kernelspec": {
   "display_name": "Python 3",
   "language": "python",
   "name": "python3"
  },
  "language_info": {
   "codemirror_mode": {
    "name": "ipython",
    "version": 3
   },
   "file_extension": ".py",
   "mimetype": "text/x-python",
   "name": "python",
   "nbconvert_exporter": "python",
   "pygments_lexer": "ipython3",
   "version": "3.5.1"
  }
 },
 "nbformat": 4,
 "nbformat_minor": 0
}
