{
 "cells": [
  {
   "cell_type": "markdown",
   "metadata": {},
   "source": [
    "## 1 Verify Anagrams\n",
    "\n",
    "An anagram is a type of word play, the result of rearranging the letters of a word or phrase to produce a new word or phrase, using all the original letters exactly once. Two words are anagrams to each other if we can get one from another by rearranging the letters. Anagrams are case-insensitive and don't take account whitespaces. For example: \"Gram Ring Mop\" and \"Programming\" are anagrams. But \"Hello\" and \"Ole Oh\" are not.\n",
    "\n",
    "You are given two words or phrase. Try to verify are they anagrams or not."
   ]
  },
  {
   "cell_type": "code",
   "execution_count": 1,
   "metadata": {
    "collapsed": true
   },
   "outputs": [],
   "source": [
    "from collections import Counter\n",
    "\n",
    "def verify_anagrams(first_word, second_word):\n",
    "    return Counter(first_word.replace(' ', '').lower()) == Counter(second_word.replace(' ', '').lower())\n",
    "    \n",
    "    \n",
    "\n",
    "if __name__ == '__main__':\n",
    "    #These \"asserts\" using only for self-checking and not necessary for auto-testing\n",
    "    assert isinstance(verify_anagrams(\"a\", 'z'), bool), \"Boolean!\"\n",
    "    assert verify_anagrams(\"Programming\", \"Gram Ring Mop\") == True, \"Gram of code\"\n",
    "    assert verify_anagrams(\"Hello\", \"Ole Oh\") == False, \"Hello! Ole Oh!\"\n",
    "    assert verify_anagrams(\"Kyoto\", \"Tokyo\") == True, \"The global warming crisis of 3002\""
   ]
  },
  {
   "cell_type": "markdown",
   "metadata": {},
   "source": [
    "## 2 Digit stack\n",
    "\n",
    "In computer science, a stack is a particular kind of data type or collection in which the principal operations in the collection are the addition of an entity to the collection (also known as push) and the removal of an entity (also known as pop). The relation between the push and pop operations is such that the stack is a Last-In-First-Out (LIFO) data structure. In a LIFO data structure, the last element added to the structure must be the first one to be removed. Often a peek, or top operation is also implemented, returning the value of the top element without removing it.\n",
    "\n",
    "We will emulate the stack process with Python. You are given a sequence of commands:\n",
    "- \"PUSH X\" -- add X in the stack, where X is a digit.\n",
    "- \"POP\" -- look and remove the top position. If the stack is empty, then it returns 0 (zero) and does nothing.\n",
    "- \"PEEK\" -- look at the top position. If the stack is empty, then it returns 0 (zero).\n",
    "The stack can only contain digits.\n",
    "\n",
    "You should process all commands and sum all digits which were taken from the stack (\"PEEK\" or \"POP\"). Initial value of the sum is 0 (zero)."
   ]
  },
  {
   "cell_type": "code",
   "execution_count": 6,
   "metadata": {
    "collapsed": false
   },
   "outputs": [],
   "source": [
    "def digit_stack(commands):\n",
    "    stack = []\n",
    "    sum = 0\n",
    "    \n",
    "    for command in commands:\n",
    "        cmd = command.split()\n",
    "        \n",
    "        if cmd[0] == 'PUSH':\n",
    "            stack.append(cmd[1])\n",
    "        elif cmd[0] == 'POP':\n",
    "            if len(stack) == 0:\n",
    "                sum += 0\n",
    "            else:\n",
    "                sum += int(stack.pop())\n",
    "        elif cmd[0] == 'PEEK':\n",
    "            if len(stack) == 0:\n",
    "                sum += 0\n",
    "            else:\n",
    "                sum += int(stack[-1])\n",
    "                \n",
    "    return sum\n",
    "\n",
    "if __name__ == '__main__':\n",
    "    #These \"asserts\" using only for self-checking and not necessary for auto-testing\n",
    "    assert digit_stack([\"PUSH 3\", \"POP\", \"POP\", \"PUSH 4\", \"PEEK\",\n",
    "                        \"PUSH 9\", \"PUSH 0\", \"PEEK\", \"POP\", \"PUSH 1\", \"PEEK\"]) == 8, \"Example\"\n",
    "    assert digit_stack([\"POP\", \"POP\"]) == 0, \"pop, pop, zero\"\n",
    "    assert digit_stack([\"PUSH 9\", \"PUSH 9\", \"POP\"]) == 9, \"Push the button\"\n",
    "    assert digit_stack([]) == 0, \"Nothing\""
   ]
  },
  {
   "cell_type": "markdown",
   "metadata": {},
   "source": [
    "## 3 Transposed Matrix\n",
    "\n",
    "In linear algebra, the transpose of a matrix A is another matrix AT (also written A′, Atr,tA or At) created by any one of the following equivalent actions:\n",
    "\n",
    "reflect A over its main diagonal (which runs from top-left to bottom-right) to obtain AT\n",
    "write the rows of A as the columns of AT\n",
    "write the columns of A as the rows of AT\n",
    "Formally, the ith row, jth column element of AT is the jth row, ith column element of A:\n",
    "\n",
    "[AT]i j = [A]j i\n",
    "\n",
    "If A is an m × n matrix then AT is an n × m matrix.\n",
    "\n",
    "You have been given a matrix as a 2D list with integers. Your task is to return a transposed matrix based on input."
   ]
  },
  {
   "cell_type": "code",
   "execution_count": null,
   "metadata": {
    "collapsed": true
   },
   "outputs": [],
   "source": []
  }
 ],
 "metadata": {
  "kernelspec": {
   "display_name": "Python 3",
   "language": "python",
   "name": "python3"
  },
  "language_info": {
   "codemirror_mode": {
    "name": "ipython",
    "version": 3
   },
   "file_extension": ".py",
   "mimetype": "text/x-python",
   "name": "python",
   "nbconvert_exporter": "python",
   "pygments_lexer": "ipython3",
   "version": "3.5.1"
  }
 },
 "nbformat": 4,
 "nbformat_minor": 0
}
