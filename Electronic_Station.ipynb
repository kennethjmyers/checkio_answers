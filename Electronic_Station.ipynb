{
 "cells": [
  {
   "cell_type": "markdown",
   "metadata": {},
   "source": [
    "## 1 Brackets\n",
    "You are given an expression with numbers, brackets and operators. For this task only the brackets matter. Brackets come in three flavors: \"{}\" \"()\" or \"[]\". Brackets are used to determine scope or to restrict some expression. If a bracket is open, then it must be closed with a closing bracket of the same type. The scope of a bracket must not intersected by another bracket. In this task you should make a decision, whether to correct an expression or not based on the brackets. Do not worry about operators and operands."
   ]
  },
  {
   "cell_type": "code",
   "execution_count": 13,
   "metadata": {
    "collapsed": true
   },
   "outputs": [],
   "source": [
    "brackets = '{[()]}'\n",
    "def checkio(expression):\n",
    "    brackets_only = [i for i in expression if i in brackets]\n",
    "    last_brackets = []\n",
    "    for i,b in enumerate(brackets_only):\n",
    "        if i == 0:\n",
    "            if b not in brackets[:3]:\n",
    "                return False\n",
    "            else:\n",
    "                last_brackets.append(b)\n",
    "        else:\n",
    "            # try statement is because if the you get a }]) when\n",
    "            # last_brackets is empty an exception will be thrown\n",
    "            try:\n",
    "                if b in brackets[:3]:\n",
    "                    last_brackets.append(b)\n",
    "                elif b == '}' and last_brackets[-1] != '{':\n",
    "                    return False\n",
    "                elif b == ']' and last_brackets[-1] != '[':\n",
    "                    return False\n",
    "                elif b == ')' and last_brackets[-1] != '(':\n",
    "                    return False\n",
    "                else:\n",
    "                    last_brackets.pop()\n",
    "            except:\n",
    "                return False\n",
    "                \n",
    "    if len(last_brackets) == 0:\n",
    "        return True\n",
    "    else:\n",
    "        return False\n",
    "            \n",
    "            \n",
    "           \n",
    "#These \"asserts\" using only for self-checking and not necessary for auto-testing\n",
    "if __name__ == '__main__':\n",
    "    assert checkio(\"((5+3)*2+1)\") == True, \"Simple\"\n",
    "    assert checkio(\"{[(3+1)+2]+}\") == True, \"Different types\"\n",
    "    assert checkio(\"(3+{1-1)}\") == False, \") is alone inside {}\"\n",
    "    assert checkio(\"[1+1]+(2*2)-{3/3}\") == True, \"Different operators\"\n",
    "    assert checkio(\"(({[(((1)-2)+3)-3]/3}-3)\") == False, \"One is redundant\"\n",
    "    assert checkio(\"2+3\") == True, \"No brackets, no problem\"\n"
   ]
  },
  {
   "cell_type": "markdown",
   "metadata": {
    "collapsed": true
   },
   "source": [
    "## 2 Letter Queue\n",
    "In computer science, a queue is a particular kind of data type in which the entities in the collection are kept in order and the principal operations on the collection are the addition of entities to the rear terminal position (enqueue or push), and removal of entities from the front terminal position (dequeue or pop). This makes the queue a First-In-First-Out (FIFO) data structure. In a FIFO data structure, the first element added to the queue will be the first one to be removed. This is equivalent to the requirement that once a new element is added, all elements that were added before have to be removed before the new element can be removed.\n",
    "\n",
    "We will emulate the queue process with Python. You are given a sequence of commands:\n",
    "- \"PUSH X\" -- enqueue X, where X is a letter in uppercase.\n",
    "- \"POP\" -- dequeue the front position. if the queue is empty, then do nothing.\n",
    "The queue can only contain letters.\n",
    "\n",
    "You should process all commands and assemble letters which remain in the queue in one word from the front to the rear of the queue.\n",
    "\n",
    "Let's look at an example, here’s the sequence of commands:\n",
    "[\"PUSH A\", \"POP\", \"POP\", \"PUSH Z\", \"PUSH D\", \"PUSH O\", \"POP\", \"PUSH T\"]"
   ]
  },
  {
   "cell_type": "code",
   "execution_count": 68,
   "metadata": {
    "collapsed": true
   },
   "outputs": [],
   "source": [
    "def letter_queue(commands):\n",
    "    queue = []\n",
    "    for i in commands:\n",
    "        j = i.split()\n",
    "        if j[0]=='PUSH':\n",
    "            queue.append(j[1])\n",
    "        elif j[0] == 'POP':\n",
    "            try:\n",
    "                queue.pop(0)\n",
    "            except:\n",
    "                continue\n",
    "                \n",
    "    return ''.join(queue)\n",
    "        \n",
    "    \n",
    "\n",
    "if __name__ == '__main__':\n",
    "    #These \"asserts\" using only for self-checking and not necessary for auto-testing\n",
    "    assert letter_queue([\"PUSH A\", \"POP\", \"POP\", \"PUSH Z\", \"PUSH D\", \"PUSH O\", \"POP\", \"PUSH T\"]) == \"DOT\", \"dot example\"\n",
    "    assert letter_queue([\"POP\", \"POP\"]) == \"\", \"Pop, Pop, empty\"\n",
    "    assert letter_queue([\"PUSH H\", \"PUSH I\"]) == \"HI\", \"Hi!\"\n",
    "    assert letter_queue([]) == \"\", \"Nothing\"\n"
   ]
  },
  {
   "cell_type": "markdown",
   "metadata": {},
   "source": [
    "## 3 Weak Point\n",
    "While traveling, the spaceship endures quite a lot of stress. As a result, an important part of the maintenance is to check the outer hull. Stephan uses a digital durabilitimeter for this task. The device scans a portion of the spaceships hull and gives a durability map that is divided by small square fragments with measurements. Sometimes Stephan does not have much time and he can patch only couple points, so we need an algorithm to find the weak points.\n",
    "\n",
    "The durability map is represented as a matrix with digits. Each number is the durability measurement for the cell. To find the weakest point we should find the weakest row and column. The weakest point is placed in the intersection of these rows and columns. Row (column) durability is a sum of cell durability in that row (column). You should find coordinates of the weakest point (row and column). The first row (column) is 0th row (column). If a section has several equal weak points, then choose the top left point."
   ]
  },
  {
   "cell_type": "code",
   "execution_count": 70,
   "metadata": {
    "collapsed": true
   },
   "outputs": [],
   "source": [
    "def weak_point(matrix):\n",
    "    col_sums = [sum(matrix[i][j] for i in range(len(matrix))) for j in range(len(matrix))]\n",
    "    row_sums = [sum(matrix[i]) for i in range(len(matrix))]\n",
    "    col_min_i = min(enumerate(col_sums), key=lambda x: x[1])[0]\n",
    "    row_min_i = min(enumerate(row_sums), key=lambda x: x[1])[0]\n",
    "    return [row_min_i,col_min_i]\n",
    "    \n",
    "\n",
    "\n",
    "if __name__ == '__main__':\n",
    "    #These \"asserts\" using only for self-checking and not necessary for auto-testing\n",
    "    assert isinstance(weak_point([[1]]), (list, tuple)), \"The result should be a list or a tuple\"\n",
    "    assert list(weak_point([[7, 2, 7, 2, 8],\n",
    "                            [2, 9, 4, 1, 7],\n",
    "                            [3, 8, 6, 2, 4],\n",
    "                            [2, 5, 2, 9, 1],\n",
    "                            [6, 6, 5, 4, 5]])) == [3, 3], \"Example\"\n",
    "    assert list(weak_point([[7, 2, 4, 2, 8],\n",
    "                            [2, 8, 1, 1, 7],\n",
    "                            [3, 8, 6, 2, 4],\n",
    "                            [2, 5, 2, 9, 1],\n",
    "                            [6, 6, 5, 4, 5]])) == [1, 2], \"Two weak point\"\n",
    "    assert list(weak_point([[1, 1, 1],\n",
    "                            [1, 1, 1],\n",
    "                            [1, 1, 1]])) == [0, 0], \"Top left\"\n"
   ]
  },
  {
   "cell_type": "markdown",
   "metadata": {},
   "source": [
    "## 4 The Hamming Distance\n",
    "The Hamming distance between two binary integers is the number of bit positions that differs (read more about the Hamming distance on Wikipedia). For example:\n",
    "\n",
    "    117 = 0 1 1 1 0 1 0 1\n",
    "     17 = 0 0 0 1 0 0 0 1\n",
    "      H = 0+1+1+0+0+1+0+0 = 3\n",
    "\n",
    "You are given two positive numbers (N, M) in decimal form. You should calculate the Hamming distance between these two numbers in binary form.\n",
    "\n"
   ]
  },
  {
   "cell_type": "code",
   "execution_count": 91,
   "metadata": {
    "collapsed": true
   },
   "outputs": [],
   "source": [
    "# Should work for any sized number\n",
    "\n",
    "def checkio(n, m):\n",
    "    n = format(n, 'b')\n",
    "    m = format(m, 'b')\n",
    "    len_n = len(n)\n",
    "    len_m = len(m)\n",
    "    zero_pad = abs(len_n-len_m)*'0'\n",
    "    if len_n > len_m:\n",
    "        m = zero_pad+m\n",
    "    else: n = zero_pad+n\n",
    "        \n",
    "    nm = zip(n,m)\n",
    "    return sum([1 if i[0] != i[1] else 0 for i in nm])\n",
    "\n",
    "if __name__ == '__main__':\n",
    "    #These \"asserts\" using only for self-checking and not necessary for auto-testing\n",
    "    assert checkio(117, 17) == 3, \"First example\"\n",
    "    assert checkio(1, 2) == 2, \"Second example\"\n",
    "    assert checkio(16, 15) == 5, \"Third example\"\n"
   ]
  },
  {
   "cell_type": "markdown",
   "metadata": {},
   "source": [
    "## 5 Restricted Sum\n",
    "Our new calculator is censored and as such it does not accept certain words. You should try to trick by writing a program to calculate the sum of numbers.\n",
    "\n",
    "Given a list of numbers, you should find the sum of these numbers. Your solution should not contain any of the banned words, even as a part of another word.\n",
    "\n",
    "The list of banned words are as follows:\n",
    "\n",
    "sum\n",
    "\n",
    "import\n",
    "\n",
    "for\n",
    "\n",
    "while\n",
    "\n",
    "reduce"
   ]
  },
  {
   "cell_type": "code",
   "execution_count": 130,
   "metadata": {
    "collapsed": true
   },
   "outputs": [],
   "source": [
    "def checkio(data, iter=0):\n",
    "    print(iter)\n",
    "    if iter < len(data)-1:\n",
    "        data[-1] = data[-1]+data[iter]\n",
    "        iter += 1\n",
    "        return checkio(data, iter)\n",
    "    elif iter == len(data)-1:\n",
    "        return data[-1]"
   ]
  },
  {
   "cell_type": "code",
   "execution_count": 131,
   "metadata": {
    "collapsed": false
   },
   "outputs": [
    {
     "name": "stdout",
     "output_type": "stream",
     "text": [
      "0\n",
      "1\n",
      "2\n"
     ]
    },
    {
     "data": {
      "text/plain": [
       "6"
      ]
     },
     "execution_count": 131,
     "metadata": {},
     "output_type": "execute_result"
    }
   ],
   "source": [
    "checkio([1,2,3])"
   ]
  },
  {
   "cell_type": "markdown",
   "metadata": {},
   "source": [
    "## 6 Moria Doors\n",
    "The Doors of Durin were opened by Gandalf and the Fellowship entered in Moria. As they found, this underground kingdom has gates on every passageway. Each gate has a written message which contains the key word. Luckily, Gimli knows how to recognize the key in these messages. It's the most \"like\" word, which has the greatest average \"likeness\" coefficient with other words in the message.\n",
    "\n",
    "You are given a message. You need to pick out all words (a consecutive sequence of letters or a single letter), calculate the \"likeness\" coefficients with other words, take an average of them and choose the greatest. Count \"likeness\" coefficient even for the same words (of course it's 100). If several words have the same resulting value, then choose the word closest to the end of the message. Words in the message can be separated by whitespaces and punctuation. There are no numbers.\n",
    "\n",
    "\"Likeness\" coefficient for two words is measured in percentages using the following rules:\n",
    "- Letter case does not matter (\"A\" == \"a\");\n",
    "- If the first letters of the words are equal, then add 10%;\n",
    "- If the last letters of the words are equal, then add 10%;\n",
    "- Add length comparison as \n",
    "(length_of_word1 / length_of_word2) * 30%, if length_of_word1 ≤ length_of_word2;\n",
    ", else (length_of_word2 / length_of_word1) * 30%\n",
    "- Take all unique letters from the both words in one set and count how many letters appear in the both words. Add to the coefficient (common_letter_number / unique_letters_numbers) * 50;\n",
    "\n",
    "So the maximum coefficient of likeness is 100%. For example: for the words \"Bread\" and \"Beard\".\n",
    "\n",
    "The result should be given in the lower case.\n",
    "\n",
    "Let's look at an example. The message \"Friend Fred and friend Ted.\" First, pick out words - (\"friend\", \"fred\", \"and\", \"friend\", \"ted\"). Next we calculate \"likeness\" for the first word with other. \"friend\" and \"fred\" have the same first and last letters, so add 20. Then length comparison: the length of \"fred\" is lesser than \"friend\", so add (4/6)*30=20. The last rule: for these words unique letters are \"definr\" and the intersected letters are \"defr\". So add (4/6)*50≈33.333. And the summary is 73.333.\n",
    "This way we will count all other coefficients and get the following table (results are rounded just for simplicity). The greatest average is 62.976 and the result is \"friend\"."
   ]
  },
  {
   "cell_type": "code",
   "execution_count": 137,
   "metadata": {
    "collapsed": true
   },
   "outputs": [],
   "source": [
    "import re"
   ]
  },
  {
   "cell_type": "code",
   "execution_count": 145,
   "metadata": {
    "collapsed": false
   },
   "outputs": [],
   "source": [
    "r = re.compile(\"[a-zA-Z]+\")\n",
    "message_list = r.findall('The Doors of Durin, Lord of Moria. Speak friend and enter.I Narvi made them. Celebrimbor of Hollin drew these signs')"
   ]
  },
  {
   "cell_type": "code",
   "execution_count": 146,
   "metadata": {
    "collapsed": false,
    "scrolled": true
   },
   "outputs": [
    {
     "data": {
      "text/plain": [
       "['The',\n",
       " 'Doors',\n",
       " 'of',\n",
       " 'Durin',\n",
       " 'Lord',\n",
       " 'of',\n",
       " 'Moria',\n",
       " 'Speak',\n",
       " 'friend',\n",
       " 'and',\n",
       " 'enter',\n",
       " 'I',\n",
       " 'Narvi',\n",
       " 'made',\n",
       " 'them',\n",
       " 'Celebrimbor',\n",
       " 'of',\n",
       " 'Hollin',\n",
       " 'drew',\n",
       " 'these',\n",
       " 'signs']"
      ]
     },
     "execution_count": 146,
     "metadata": {},
     "output_type": "execute_result"
    }
   ],
   "source": [
    "message_list"
   ]
  },
  {
   "cell_type": "code",
   "execution_count": 147,
   "metadata": {
    "collapsed": true
   },
   "outputs": [],
   "source": [
    "import re\n",
    "\n",
    "def word_compare(word1, word2):\n",
    "    if word1 == word2:\n",
    "        return 100\n",
    "    else:\n",
    "        count = 0\n",
    "        if word1[0] == word2[0]:\n",
    "            count += 10\n",
    "        if word1[-1] == word2[-1]:\n",
    "            count += 10\n",
    "        if len(word1) <= len(word2):\n",
    "            count += (len(word1)/len(word2))*30\n",
    "        else:\n",
    "            count += (len(word2)/len(word1))*30\n",
    "        w1_set = set(word1)\n",
    "        w2_set = set(word2)\n",
    "        common = w1_set.intersection(w2_set)\n",
    "        unique = set.union(w1_set,w2_set)\n",
    "        #print(common, unique)\n",
    "        if len(unique) > 0:\n",
    "            count += (len(common)/len(unique))*50\n",
    "        else:\n",
    "            count +=50\n",
    "        return count\n",
    "\n",
    "def find_word(message):\n",
    "    max_value = 0\n",
    "    max_word = ''\n",
    "    message = message.lower()\n",
    "    r = re.compile(\"[a-z]+\")\n",
    "    message_list = r.findall(message)\n",
    "    for i, word1 in enumerate(message_list):\n",
    "        #print(word1)\n",
    "        sum_values = 0\n",
    "        temp_message = [w for j, w in enumerate(message_list) if j != i]\n",
    "        for word2 in temp_message:\n",
    "            temp_value = word_compare(word1, word2)\n",
    "            #print(temp_value)\n",
    "            sum_values += temp_value\n",
    "        \n",
    "        avg_value = sum_values/len(temp_message)\n",
    "        #print('avg :', avg_value)\n",
    "        #print()\n",
    "        if avg_value >= max_value:\n",
    "            max_value = avg_value\n",
    "            max_word = word1\n",
    "    \n",
    "    return max_word\n",
    "    \n",
    "\n",
    "if __name__ == '__main__':\n",
    "    #These \"asserts\" using only for self-checking and not necessary for auto-testing\n",
    "    assert find_word(\"Speak friend and enter.\") == \"friend\", \"Friend\"\n",
    "    assert find_word(\"Beard and Bread\") == \"bread\", \"Bread is Beard\"\n",
    "    assert find_word(\"The Doors of Durin, Lord of Moria. Speak friend and enter. \"\n",
    "                     \"I Narvi made them. Celebrimbor of Hollin drew these signs\") == \"durin\", \"Durin\"\n",
    "    assert find_word(\"Aoccdrnig to a rscheearch at Cmabrigde Uinervtisy.\"\n",
    "                     \" According to a researcher at Cambridge University.\") == \"according\", \"Research\"\n",
    "    assert find_word(\"One, two, two, three, three, three.\") == \"three\", \"Repeating\"\n"
   ]
  },
  {
   "cell_type": "code",
   "execution_count": null,
   "metadata": {
    "collapsed": true
   },
   "outputs": [],
   "source": []
  }
 ],
 "metadata": {
  "kernelspec": {
   "display_name": "Python 3",
   "language": "python",
   "name": "python3"
  },
  "language_info": {
   "codemirror_mode": {
    "name": "ipython",
    "version": 3
   },
   "file_extension": ".py",
   "mimetype": "text/x-python",
   "name": "python",
   "nbconvert_exporter": "python",
   "pygments_lexer": "ipython3",
   "version": "3.5.1"
  }
 },
 "nbformat": 4,
 "nbformat_minor": 0
}
