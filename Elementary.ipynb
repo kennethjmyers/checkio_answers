{
 "cells": [
  {
   "cell_type": "markdown",
   "metadata": {},
   "source": [
    "## 1 Fizz buzz\n",
    "\"Fizz buzz\" is a word game we will use to teach the robots about division. Let's learn computers.\n",
    "\n",
    "You should write a function that will receive a positive integer and return:\n",
    "\"Fizz Buzz\" if the number is divisible by 3 and by 5;\n",
    "\"Fizz\" if the number is divisible by 3;\n",
    "\"Buzz\" if the number is divisible by 5; \n",
    "The number as a string for other cases."
   ]
  },
  {
   "cell_type": "code",
   "execution_count": 1,
   "metadata": {
    "collapsed": true
   },
   "outputs": [],
   "source": [
    "def checkio(number):\n",
    "    return ['Fizz Buzz' if i%3==0 and i%5==0 else 'Fizz' if i%3==0 else 'Buzz' if i%5==0 else str(i) for i in range(1001)][number]\n",
    "    "
   ]
  },
  {
   "cell_type": "markdown",
   "metadata": {},
   "source": [
    "## 2 Index power\n",
    "You are given an array with positive numbers and a number N. You should find the N-th power of the element in the array with the index N. If N is outside of the array, then return -1. Don't forget that the first element has the index 0.\n",
    "\n",
    "Let's look at a few examples:\n",
    "- array = [1, 2, 3, 4] and N = 2, then the result is 32 == 9;\n",
    "- array = [1, 2, 3] and N = 3, but N is outside of the array, so the result is -1."
   ]
  },
  {
   "cell_type": "code",
   "execution_count": 2,
   "metadata": {
    "collapsed": true
   },
   "outputs": [],
   "source": [
    "def index_power(array, n):\n",
    "    try:\n",
    "        return array[n]**n\n",
    "    except:\n",
    "        return -1"
   ]
  },
  {
   "cell_type": "markdown",
   "metadata": {},
   "source": [
    "## 3 even the last\n",
    "You are given an array of integers. You should find the sum of the elements with even indexes (0th, 2nd, 4th...) then multiply this summed number and the final element of the array together. Don't forget that the first element has an index of 0.\n",
    "\n",
    "For an empty array, the result will always be 0 (zero)."
   ]
  },
  {
   "cell_type": "code",
   "execution_count": 3,
   "metadata": {
    "collapsed": true
   },
   "outputs": [],
   "source": [
    "def checkio(array):\n",
    "    try:\n",
    "        sum = 0\n",
    "        for i, x in enumerate(array):\n",
    "            if i%2 == 0:\n",
    "                sum += x\n",
    "        return sum*array[-1]\n",
    "    except:\n",
    "        return 0"
   ]
  },
  {
   "cell_type": "markdown",
   "metadata": {},
   "source": [
    "## 4 Monkey typing\n",
    "The infinite monkey theorem states that a monkey hitting keys at random on a typewriter keyboard for an infinite length of time will almost surely type out a given text, such as the complete works of John Wallis, or more likely, a Dan Brown novel.\n",
    "\n",
    "Let's suppose our monkeys are typing, typing and typing, and have produced a wide variety of short text segments. Let's try to check them for sensible word inclusions.\n",
    "\n",
    "You are given some text potentially including sensible words. You should count how many words are included in the given text. A word should be whole and may be a part of other word. Text letter case does not matter. Words are given in lowercase and don't repeat. If a word appears several times in the text, it should be counted only once.\n",
    "\n",
    "For example, text - \"How aresjfhdskfhskd you?\", words - (\"how\", \"are\", \"you\", \"hello\"). The result will be 3."
   ]
  },
  {
   "cell_type": "code",
   "execution_count": 4,
   "metadata": {
    "collapsed": false
   },
   "outputs": [],
   "source": [
    "def count_words(text, words):\n",
    "    count = 0\n",
    "    text = text.lower()\n",
    "    for word in words:\n",
    "        if word.lower() in text:\n",
    "            count += 1\n",
    "    return count"
   ]
  },
  {
   "cell_type": "markdown",
   "metadata": {},
   "source": [
    "## 5 Secret Message\n",
    "Ever tried to send a secret message to someone without using the postal service? You could use newspapers to tell your secret. Even if someone finds your message, it’s easy to brush them off and that its paranoia and a bogus conspiracy theory. One of the simplest ways to hide a secret message is to use capital letters. Let's find some of these secret messages.\n",
    "\n",
    "You are given a chunk of text. Gather all capital letters in one word in the order that they appear in the text.\n",
    "\n",
    "For example: text = \"How are you? Eh, ok. Low or Lower? Ohhh.\", if we collect all of the capital letters, we get the message \"HELLO\"."
   ]
  },
  {
   "cell_type": "code",
   "execution_count": 5,
   "metadata": {
    "collapsed": true
   },
   "outputs": [],
   "source": [
    "caps = 'ABCDEFGHIJKLMNOPQRSTUVWXYZ'\n",
    "def find_message(text):\n",
    "    return ''.join([i for i in text if i in caps])"
   ]
  },
  {
   "cell_type": "markdown",
   "metadata": {},
   "source": [
    "## 6 Three words\n",
    "Let's teach the Robots to distinguish words and numbers.\n",
    "\n",
    "You are given a string with words and numbers separated by whitespaces (one space). The words contains only letters. You should check if the string contains three words in succession. For example, the string \"start 5 one two three 7 end\" contains three words in succession.\n",
    "\n"
   ]
  },
  {
   "cell_type": "code",
   "execution_count": 6,
   "metadata": {
    "collapsed": true
   },
   "outputs": [],
   "source": [
    "nums = '0123456789'\n",
    "def checkio(words):\n",
    "    words = words.split()\n",
    "    count = 0\n",
    "    max_count = 0\n",
    "    if len(words) < 3:\n",
    "        return False\n",
    "    for word in words:\n",
    "        count += 1\n",
    "        for d in nums:\n",
    "            if d in word:\n",
    "                count = 0\n",
    "        \n",
    "        if count > max_count:\n",
    "            max_count = count\n",
    "                \n",
    "    if max_count >= 3:\n",
    "        return True\n",
    "    else:\n",
    "        return False\n",
    "\n",
    "    \n",
    "assert checkio(\"Hello World hello\") == True, \"Hello\"\n",
    "assert checkio(\"He is 123 man\") == False, \"123 man\"\n",
    "assert checkio(\"1 2 3 4\") == False, \"Digits\"\n",
    "assert checkio(\"bla bla bla bla\") == True, \"Bla Bla\"\n",
    "assert checkio(\"Hi\") == False, \"Hi\"\n"
   ]
  },
  {
   "cell_type": "markdown",
   "metadata": {},
   "source": [
    "## 7 The most numbers\n",
    "Let's work with numbers.\n",
    "\n",
    "You are given an array of numbers (floats). You should find the difference between the maximum and minimum element. Your function should be able to handle an undefined amount of arguments. For an empty argument list, the function should return 0.\n",
    "\n",
    "Floating-point numbers are represented in computer hardware as base 2 (binary) fractions (read about this here). So we should check the result with ±0.001 precision.\n",
    "Think about how to work with an arbitrary number of arguments."
   ]
  },
  {
   "cell_type": "code",
   "execution_count": 7,
   "metadata": {
    "collapsed": true
   },
   "outputs": [],
   "source": [
    "def checkio(*args):\n",
    "    if len(args) > 0:\n",
    "        nums = list(args)\n",
    "        maxi = -10000000\n",
    "        mini = 1000000\n",
    "        for i in nums:\n",
    "            if i > maxi:\n",
    "                maxi = i\n",
    "            if i < mini:\n",
    "                mini = i\n",
    "        \n",
    "        return maxi-mini\n",
    "    else:\n",
    "        return 0"
   ]
  },
  {
   "cell_type": "markdown",
   "metadata": {},
   "source": [
    "## 8 Boolean Algebra\n",
    "\n",
    "In mathematics and mathematical logic, Boolean algebra is a sub-area of algebra in which the values of the variables are true or false, typically denoted with 1 or 0 respectively. Instead of elementary algebra where the values of the variables are numbers and the main operations are addition and multiplication, the main operations of Boolean algebra are the conjunction (denoted ∧), the disjunction (denoted ∨) and the negation (denoted ¬).\n",
    "\n",
    "In this mission you should implement some boolean operations:\n",
    "- \"conjunction\" denoted x ∧ y, satisfies x ∧ y = 1 if x = y = 1 and x ∧ y = 0 otherwise.\n",
    "- \"disjunction\" denoted x ∨ y, satisfies x ∨ y = 0 if x = y = 0 and x ∨ y = 1 otherwise.\n",
    "- \"implication\" (material implication) denoted x→y and can be described as ¬ x ∨ y. If x is true then the value of x → y is taken to be that of y. But if x is false then the value of y can be ignored; however the operation must return some truth value and there are only two choices, so the return value is the one that entails less, namely true.\n",
    "- \"exclusive\" (exclusive or) denoted x ⊕ y and can be described as (x ∨ y)∧ ¬ (x ∧ y). It excludes the possibility of both x and y. Defined in terms of arithmetic it is addition mod 2 where 1 + 1 = 0.\n",
    "- \"equivalence\" denoted x ≡ y and can be described as ¬ (x ⊕ y). It's true just when x and y have the same value.\n",
    "Here you can see the truth table for these operations:\n",
    "\n",
    " x | y | x∧y | x∨y | x→y | x⊕y | x≡y |\n",
    "\n",
    " 0 | 0 |  0  |  0  |  1  |  0  |  1  |\n",
    " \n",
    " 1 | 0 |  0  |  1  |  0  |  1  |  0  |\n",
    " \n",
    " 0 | 1 |  0  |  1  |  1  |  1  |  0  |\n",
    " \n",
    " 1 | 1 |  1  |  1  |  1  |  0  |  1  |\n",
    "\n",
    "You are given two boolean values x and y as 1 or 0 and you are given an operation name as described earlier. You should calculate the value and return it as 1 or 0."
   ]
  },
  {
   "cell_type": "code",
   "execution_count": 9,
   "metadata": {
    "collapsed": true
   },
   "outputs": [],
   "source": [
    "OP_NAMES = (\"conjunction\", \"disjunction\", \"implication\", \"exclusive\", \"equivalence\")\n",
    "\n",
    "def boolean(x, y, operation):\n",
    "    if operation == OP_NAMES[0]:\n",
    "        if x and y:\n",
    "            return 1\n",
    "        else:\n",
    "            return 0\n",
    "    elif operation == OP_NAMES[1]:\n",
    "        if not x and not y:\n",
    "            return 0\n",
    "        else:\n",
    "            return 1   \n",
    "    elif operation == OP_NAMES[2]:\n",
    "        if x and not y:\n",
    "            return 0\n",
    "        else:\n",
    "            return 1\n",
    "    elif operation == OP_NAMES[3]:\n",
    "        if (not x and not y) or (x and y):\n",
    "            return 0\n",
    "        else:\n",
    "            return 1\n",
    "    elif operation == OP_NAMES[4]:\n",
    "        if (not x and not y) or (x and y):\n",
    "            return 1\n",
    "        else:\n",
    "            return 0\n",
    "\n",
    "assert boolean(1, 0, \"conjunction\") == 0, \"and\"\n",
    "assert boolean(1, 0, \"disjunction\") == 1, \"or\"\n",
    "assert boolean(1, 1, \"implication\") == 1, \"material\"\n",
    "assert boolean(0, 1, \"exclusive\") == 1, \"xor\"\n",
    "assert boolean(0, 1, \"equivalence\") == 0, \"same?\"\n"
   ]
  },
  {
   "cell_type": "markdown",
   "metadata": {},
   "source": [
    "## 9 Right to left\n",
    "One of robots is charged with a simple task: to join a sequence of strings in one sentence to produce instructions on how to get around the ship. But this robot is left-hander and has a tendency to joke around and confuse its right handed friends.\n",
    "\n",
    "You are given a sequence of strings. You should join these strings into chunk of text where the initial strings are separated by commas. As a joke on the right handed robots, you should replace all cases of the words \"right\" with the word \"left\", even if it's a part of another word. All strings are given in lowercase."
   ]
  },
  {
   "cell_type": "code",
   "execution_count": 10,
   "metadata": {
    "collapsed": true
   },
   "outputs": [],
   "source": [
    "def left_join(phrases):\n",
    "    return ','.join([phrase.replace('right','left') for phrase in phrases])\n",
    "\n",
    "assert left_join((\"left\", \"right\", \"left\", \"stop\")) == \"left,left,left,stop\", \"All to left\"\n",
    "assert left_join((\"bright aright\", \"ok\")) == \"bleft aleft,ok\", \"Bright Left\"\n",
    "assert left_join((\"brightness wright\",)) == \"bleftness wleft\", \"One phrase\"\n",
    "assert left_join((\"enough\", \"jokes\")) == \"enough,jokes\", \"Nothing to replace\""
   ]
  },
  {
   "cell_type": "markdown",
   "metadata": {},
   "source": [
    "## 10 Digits Multiplication\n",
    "You are given a positive integer. Your function should calculate the product of the digits excluding any zeroes.\n",
    "\n",
    "For example: The number given is 123405. The result will be 1*2*3*4*5=120 (don't forget to exclude zeroes)."
   ]
  },
  {
   "cell_type": "code",
   "execution_count": 12,
   "metadata": {
    "collapsed": false
   },
   "outputs": [],
   "source": [
    "from functools import reduce\n",
    "def checkio(number):\n",
    "    return reduce(lambda x,y: x*y, [int(i) for i in str(number) if i != '0'])\n",
    "\n",
    "assert checkio(123405) == 120\n",
    "assert checkio(999) == 729\n",
    "assert checkio(1000) == 1\n",
    "assert checkio(1111) == 1\n"
   ]
  },
  {
   "cell_type": "markdown",
   "metadata": {},
   "source": [
    "## 11 Count inversions\n",
    "In computer science and discrete mathematics, an inversion is a pair of places in a sequence where the elements in these places are out of their natural order. So, if we use ascending order for a group of numbers, then an inversion is when larger numbers appear before lower number in a sequence.\n",
    "\n",
    "Check out this example sequence: (1, 2, 5, 3, 4, 7, 6) and we can see here three inversions\n",
    "- 5 and 3; \n",
    "- 5 and 4; \n",
    "- 7 and 6.\n",
    "\n",
    "You are given a sequence of unique numbers and you should count the number of inversions in this sequence."
   ]
  },
  {
   "cell_type": "code",
   "execution_count": 13,
   "metadata": {
    "collapsed": true
   },
   "outputs": [],
   "source": [
    "def count_inversion(sequence):\n",
    "    count = 0\n",
    "    for i, x in enumerate(sequence):\n",
    "        for j in sequence[i+1:]:\n",
    "            if x > j:\n",
    "                count+=1\n",
    "    return count"
   ]
  },
  {
   "cell_type": "markdown",
   "metadata": {},
   "source": [
    "## 12 The end of other\n",
    "For language training our Robots want to learn about suffixes.\n",
    "\n",
    "In this task, you are given a set of words in lower case. Check whether there is a pair of words, such that one word is the end of another (a suffix of another). For example: {\"hi\", \"hello\", \"lo\"} -- \"lo\" is the end of \"hello\", so the result is True."
   ]
  },
  {
   "cell_type": "code",
   "execution_count": 15,
   "metadata": {
    "collapsed": true
   },
   "outputs": [],
   "source": [
    "def checkio(words_set):\n",
    "    if len(words_set) < 2:\n",
    "        return False\n",
    "    for i,a in enumerate(words_set):\n",
    "        temp = [b[-len(a):] for j,b in enumerate(words_set) if j != i ]\n",
    "        if a in temp:\n",
    "            return True\n",
    "    \n",
    "    return False\n",
    "\n",
    "#These \"asserts\" using only for self-checking and not necessary for auto-testing\n",
    "if __name__ == '__main__':\n",
    "    assert checkio({\"hello\", \"lo\", \"he\"}) == True, \"helLO\"\n",
    "    assert checkio({\"hello\", \"la\", \"hellow\", \"cow\"}) == False, \"hellow la cow\"\n",
    "    assert checkio({\"walk\", \"duckwalk\"}) == True, \"duck to walk\"\n",
    "    assert checkio({\"one\"}) == False, \"Only One\"\n",
    "    assert checkio({\"helicopter\", \"li\", \"he\"}) == False, \"Only end\""
   ]
  },
  {
   "cell_type": "markdown",
   "metadata": {},
   "source": [
    "## 13 days between\n",
    "How old are you in number of days? It's easy to calculate - just subtract your birthday from today. We could make this a real challenge though and count the difference between any dates.\n",
    "\n",
    "You are given two dates as tuples with three numbers - year, month and day. For example: 19 April 1982 will be (1982, 4, 19). You should find the difference in days between the given dates. For example between today and tomorrow = 1 day. The difference will always be either a positive number or zero, so don't forget about absolute value."
   ]
  },
  {
   "cell_type": "code",
   "execution_count": 16,
   "metadata": {
    "collapsed": true
   },
   "outputs": [],
   "source": [
    "from datetime import datetime\n",
    "\n",
    "def days_diff(date1, date2):\n",
    "    d1 = datetime(date1[0],date1[1],date1[2])\n",
    "    d2 = datetime(date2[0],date2[1],date2[2])\n",
    "    return abs((d1-d2).days)\n",
    "\n",
    "if __name__ == '__main__':\n",
    "    #These \"asserts\" using only for self-checking and not necessary for auto-testing\n",
    "    assert days_diff((1982, 4, 19), (1982, 4, 22)) == 3\n",
    "    assert days_diff((2014, 1, 1), (2014, 8, 27)) == 238\n",
    "    assert days_diff((2014, 8, 27), (2014, 1, 1)) == 238"
   ]
  },
  {
   "cell_type": "markdown",
   "metadata": {},
   "source": [
    "## 14 Pangram\n",
    "A pangram (Greek:παν γράμμα, pan gramma, \"every letter\") or holoalphabetic sentence for a given alphabet is a sentence using every letter of the alphabet at least once. Perhaps you are familiar with the well known pangram \"The quick brown fox jumps over the lazy dog\".\n",
    "\n",
    "For this mission, we will use the latin alphabet (A-Z). You are given a text with latin letters and punctuation symbols. You need to check if the sentence is a pangram or not. Case does not matter."
   ]
  },
  {
   "cell_type": "code",
   "execution_count": 18,
   "metadata": {
    "collapsed": true
   },
   "outputs": [],
   "source": [
    "letters = 'abcdefghijklmnopqrstuvwxyz'\n",
    "def check_pangram(text):\n",
    "    return all(any(j==i for i in text.lower()) for j in letters)\n",
    "\n",
    "if __name__ == '__main__':\n",
    "    # These \"asserts\" using only for self-checking and not necessary for auto-testing\n",
    "    assert check_pangram(\"The quick brown fox jumps over the lazy dog.\"), \"brown fox\"\n",
    "    assert not check_pangram(\"ABCDEF\"), \"ABC\"\n",
    "    assert check_pangram(\"Bored? Craving a pub quiz fix? Why, just come to the Royal Oak!\"), \"Bored?\"\n"
   ]
  },
  {
   "cell_type": "markdown",
   "metadata": {},
   "source": [
    "## 15 Binary count\n",
    "For the Robots the decimal format is inconvenient. If they need to count to \"1\", their computer brains want to count it in the binary representation of that number. You can read more about binary here.\n",
    "\n",
    "You are given a number (a positive integer). You should convert it to the binary format and count how many unities (1) are in the number spelling. For example: 5 = 0b101 contains two unities, so the answer is 2."
   ]
  },
  {
   "cell_type": "code",
   "execution_count": 26,
   "metadata": {
    "collapsed": true
   },
   "outputs": [],
   "source": [
    "def checkio(number):\n",
    "    return bin(number).count('1')\n",
    "\n",
    "#These \"asserts\" using only for self-checking and not necessary for auto-testing\n",
    "if __name__ == '__main__':\n",
    "    assert checkio(4) == 1\n",
    "    assert checkio(15) == 4\n",
    "    assert checkio(1) == 1\n",
    "    assert checkio(1022) == 9"
   ]
  },
  {
   "cell_type": "markdown",
   "metadata": {},
   "source": [
    "## 16 Number base\n",
    "Do you remember the radix and Numeral systems from math class? Let's practice with it.\n",
    "\n",
    "You are given a positive number as a string along with the radix for it. Your function should convert it into decimal form. The radix is less than 37 and greater than 1. The task uses digits and the letters A-Z for the strings.\n",
    "\n",
    "Watch out for cases when the number cannot be converted. For example: \"1A\" cannot be converted with radix 9. For these cases your function should return -1."
   ]
  },
  {
   "cell_type": "code",
   "execution_count": 32,
   "metadata": {
    "collapsed": false
   },
   "outputs": [],
   "source": [
    "def checkio(str_number, radix):\n",
    "    try:\n",
    "        return int(str_number, radix)\n",
    "    except:\n",
    "        return -1\n",
    "\n",
    "#These \"asserts\" using only for self-checking and not necessary for auto-testing\n",
    "if __name__ == '__main__':\n",
    "    assert checkio(\"AF\", 16) == 175, \"Hex\"\n",
    "    assert checkio(\"101\", 2) == 5, \"Bin\"\n",
    "    assert checkio(\"101\", 5) == 26, \"5 base\"\n",
    "    assert checkio(\"Z\", 36) == 35, \"Z base\"\n",
    "    assert checkio(\"AB\", 10) == -1, \"B > A > 10\""
   ]
  },
  {
   "cell_type": "markdown",
   "metadata": {},
   "source": [
    "## 17 Common words\n",
    "Let's continue examining words. You are given two string with words separated by commas. Try to find what is common between these strings. The words are not repeated in the same string.\n",
    "\n",
    "Your function should find all of the words that appear in both strings. The result must be represented as a string of words separated by commas in alphabetic order."
   ]
  },
  {
   "cell_type": "code",
   "execution_count": 33,
   "metadata": {
    "collapsed": true
   },
   "outputs": [],
   "source": [
    "def checkio(first, second):\n",
    "    return \",\".join(sorted(set(first.split(',')).intersection(set(second.split(',')))))\n",
    "\n",
    "#These \"asserts\" using only for self-checking and not necessary for auto-testing\n",
    "if __name__ == '__main__':\n",
    "    assert checkio(\"hello,world\", \"hello,earth\") == \"hello\", \"Hello\"\n",
    "    assert checkio(\"one,two,three\", \"four,five,six\") == \"\", \"Too different\"\n",
    "    assert checkio(\"one,two,three\", \"four,five,one,two,six,three\") == \"one,three,two\", \"1 2 3\"\n"
   ]
  },
  {
   "cell_type": "markdown",
   "metadata": {},
   "source": [
    "## 18 Absolute Sorting\n",
    "Let's try some sorting. Here is an array with the specific rules.\n",
    "\n",
    "The array (a tuple) has various numbers. You should sort it, but sort it by absolute value in ascending order. For example, the sequence (-20, -5, 10, 15) will be sorted like so: (-5, 10, 15, -20). Your function should return the sorted list or tuple."
   ]
  },
  {
   "cell_type": "code",
   "execution_count": 34,
   "metadata": {
    "collapsed": true
   },
   "outputs": [],
   "source": [
    "def checkio(numbers_array):\n",
    "    return sorted(numbers_array, key=lambda x: abs(x))\n",
    "\n",
    "#These \"asserts\" using only for self-checking and not necessary for auto-testing\n",
    "if __name__ == '__main__':\n",
    "    def check_it(array):\n",
    "        if not isinstance(array, (list, tuple)):\n",
    "            raise TypeError(\"The result should be a list or tuple.\")\n",
    "        return list(array)\n",
    "\n",
    "    assert check_it(checkio((-20, -5, 10, 15))) == [-5, 10, 15, -20], \"Example\"  # or (-5, 10, 15, -20)\n",
    "    assert check_it(checkio((1, 2, 3, 0))) == [0, 1, 2, 3], \"Positive numbers\"\n",
    "    assert check_it(checkio((-1, -2, -3, 0))) == [0, -1, -2, -3], \"Negative numbers\"\n"
   ]
  },
  {
   "cell_type": "markdown",
   "metadata": {},
   "source": [
    "## 19 Building base\n",
    "The singularity has happened and we are being made to build the ideal robo-city for our overlords. In this shining robotropolis, all buildings will be rectangular and all streets laid along south-north and east-west lines in a glorious grid. Before we get started, we to create a class to represent the perfect building.\n",
    "\n",
    "Because all the buildings in the city are rectangular and their walls are parallel to the streets, we can define any building using only the coordinates of South-Western corner as two arguments (the length of the west to east walls, and the length of the north to south wall) along with the height of the building. These values are described as positive numbers using conventional units. The origin point of our coordinate system lies in the South-West , as a result the northern corner ends up having the greater coordinate value than the southern corner. To complete this mission we need to use a couple operations. See the class description below."
   ]
  },
  {
   "cell_type": "code",
   "execution_count": 37,
   "metadata": {
    "collapsed": false
   },
   "outputs": [],
   "source": [
    "class Building:\n",
    "    def __init__(self, south, west, width_WE, width_NS, height=10):\n",
    "        self.south = south\n",
    "        self.west = west\n",
    "        self.width_WE = width_WE\n",
    "        self.width_NS = width_NS\n",
    "        self.height = height\n",
    "\n",
    "    def corners(self):\n",
    "        return {\"north-west\": [self.south+self.width_NS, self.west], \n",
    "                \"north-east\": [self.south+self.width_NS, self.west+self.width_WE], \n",
    "                \"south-west\": [self.south, self.west], \n",
    "                \"south-east\": [self.south, self.west+self.width_WE]\n",
    "                }\n",
    "\n",
    "    def area(self):\n",
    "        return self.width_WE*self.width_NS\n",
    "\n",
    "    def volume(self):\n",
    "        return self.area()*self.height\n",
    "\n",
    "    def __repr__(self):\n",
    "        return \"Building(\"+str(self.south) +\", \"+str(self.west) +\", \"+ str(self.width_WE)+\", \"+str(self.width_NS) +\", \"+ str(self.height)+\")\"\n",
    "\n",
    "\n",
    "if __name__ == '__main__':\n",
    "    #These \"asserts\" using only for self-checking and not necessary for auto-testing\n",
    "    def json_dict(d):\n",
    "        return dict((k, list(v)) for k, v in d.items())\n",
    "\n",
    "    b = Building(1, 2, 2, 3)\n",
    "    b2 = Building(1, 2, 2, 3, 5)\n",
    "    assert json_dict(b.corners()) == {'north-east': [4, 4], 'south-east': [1, 4],\n",
    "                                      'south-west': [1, 2], 'north-west': [4, 2]}, \"Corners\"\n",
    "    assert b.area() == 6, \"Area\"\n",
    "    assert b.volume() == 60, \"Volume\"\n",
    "    assert b2.volume() == 30, \"Volume2\"\n",
    "    assert str(b) == \"Building(1, 2, 2, 3, 10)\", \"String\""
   ]
  },
  {
   "cell_type": "markdown",
   "metadata": {},
   "source": [
    "## 20 Friends\n",
    "For the mission \"How to find friends\" , it’s nice to have access to a specially made data structure. In this mission we will realize a data structure which we will use to store and work with a friend network.\n",
    "\n",
    "The class \"Friends\" should contains names and the connections between them. Names are represented as strings and are case sensitive. Connections are undirected, so if \"sophia\" is connected with \"nikola\", then it's also correct in reverse."
   ]
  },
  {
   "cell_type": "code",
   "execution_count": 65,
   "metadata": {
    "collapsed": true
   },
   "outputs": [],
   "source": [
    "from functools import reduce\n",
    "\n",
    "class Friends:\n",
    "    def __init__(self, connections):\n",
    "        self.connections = list(connections)\n",
    "\n",
    "        \n",
    "\n",
    "    def add(self, connection):\n",
    "        if connection in self.connections:\n",
    "            return False\n",
    "        else:\n",
    "            self.connections.append(connection)\n",
    "            return True\n",
    "\n",
    "    def remove(self, connection):\n",
    "        try:\n",
    "            self.connections.remove(connection)\n",
    "            return True\n",
    "        except:\n",
    "            return False\n",
    "            \n",
    "    def names(self):\n",
    "        try: \n",
    "            return reduce(set.union, self.connections)\n",
    "        except:\n",
    "            return set()\n",
    "        \n",
    "    def connected(self, name):\n",
    "        try:\n",
    "            return reduce(set.union, [pair for pair in self.connections if name in pair])-{name}\n",
    "        except:\n",
    "            return set()\n",
    "\n",
    "\n",
    "if __name__ == '__main__':\n",
    "    #These \"asserts\" using only for self-checking and not necessary for auto-testing\n",
    "    letter_friends = Friends(({\"a\", \"b\"}, {\"b\", \"c\"}, {\"c\", \"a\"}, {\"a\", \"c\"}))\n",
    "    digit_friends = Friends([{\"1\", \"2\"}, {\"3\", \"1\"}])\n",
    "    assert letter_friends.add({\"c\", \"d\"}) is True, \"Add\"\n",
    "    assert letter_friends.add({\"c\", \"d\"}) is False, \"Add again\"\n",
    "    assert letter_friends.remove({\"c\", \"d\"}) is True, \"Remove\"\n",
    "    assert digit_friends.remove({\"c\", \"d\"}) is False, \"Remove non exists\"\n",
    "    assert letter_friends.names() == {\"a\", \"b\", \"c\"}, \"Names\"\n",
    "    assert letter_friends.connected(\"d\") == set(), \"Non connected name\"\n",
    "    assert letter_friends.connected(\"a\") == {\"b\", \"c\"}, \"Connected name\"\n"
   ]
  },
  {
   "cell_type": "markdown",
   "metadata": {},
   "source": [
    "## 21 I love python\n"
   ]
  },
  {
   "cell_type": "code",
   "execution_count": 67,
   "metadata": {
    "collapsed": false
   },
   "outputs": [],
   "source": [
    "def i_love_python():\n",
    "    \"\"\"\n",
    "        I love python for the following reasons:\n",
    "            1. List comprehensions\n",
    "            2. Easy, forgiving syntax\n",
    "            3. Variety in data structures\n",
    "            4. Less emphasis on OOP, more emphasis on functional\n",
    "    \"\"\"\n",
    "    return \"I love Python!\"\n",
    "\n",
    "if __name__ == '__main__':\n",
    "    #These \"asserts\" using only for self-checking and not necessary for auto-testing\n",
    "    assert i_love_python() == \"I love Python!\""
   ]
  },
  {
   "cell_type": "code",
   "execution_count": null,
   "metadata": {
    "collapsed": true
   },
   "outputs": [],
   "source": []
  }
 ],
 "metadata": {
  "kernelspec": {
   "display_name": "Python 3",
   "language": "python",
   "name": "python3"
  },
  "language_info": {
   "codemirror_mode": {
    "name": "ipython",
    "version": 3
   },
   "file_extension": ".py",
   "mimetype": "text/x-python",
   "name": "python",
   "nbconvert_exporter": "python",
   "pygments_lexer": "ipython3",
   "version": "3.5.1"
  }
 },
 "nbformat": 4,
 "nbformat_minor": 0
}
