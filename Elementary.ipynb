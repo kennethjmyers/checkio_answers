{
 "cells": [
  {
   "cell_type": "markdown",
   "metadata": {},
   "source": [
    "## 1 Fizz buzz\n",
    "\"Fizz buzz\" is a word game we will use to teach the robots about division. Let's learn computers.\n",
    "\n",
    "You should write a function that will receive a positive integer and return:\n",
    "\"Fizz Buzz\" if the number is divisible by 3 and by 5;\n",
    "\"Fizz\" if the number is divisible by 3;\n",
    "\"Buzz\" if the number is divisible by 5; \n",
    "The number as a string for other cases."
   ]
  },
  {
   "cell_type": "code",
   "execution_count": 1,
   "metadata": {
    "collapsed": true
   },
   "outputs": [],
   "source": [
    "def checkio(number):\n",
    "    return ['Fizz Buzz' if i%3==0 and i%5==0 else 'Fizz' if i%3==0 else 'Buzz' if i%5==0 else str(i) for i in range(1001)][number]\n",
    "    "
   ]
  },
  {
   "cell_type": "markdown",
   "metadata": {},
   "source": [
    "## 2 Index power\n",
    "You are given an array with positive numbers and a number N. You should find the N-th power of the element in the array with the index N. If N is outside of the array, then return -1. Don't forget that the first element has the index 0.\n",
    "\n",
    "Let's look at a few examples:\n",
    "- array = [1, 2, 3, 4] and N = 2, then the result is 32 == 9;\n",
    "- array = [1, 2, 3] and N = 3, but N is outside of the array, so the result is -1."
   ]
  },
  {
   "cell_type": "code",
   "execution_count": 2,
   "metadata": {
    "collapsed": true
   },
   "outputs": [],
   "source": [
    "def index_power(array, n):\n",
    "    try:\n",
    "        return array[n]**n\n",
    "    except:\n",
    "        return -1"
   ]
  },
  {
   "cell_type": "markdown",
   "metadata": {},
   "source": [
    "## 3 even the last\n",
    "You are given an array of integers. You should find the sum of the elements with even indexes (0th, 2nd, 4th...) then multiply this summed number and the final element of the array together. Don't forget that the first element has an index of 0.\n",
    "\n",
    "For an empty array, the result will always be 0 (zero)."
   ]
  },
  {
   "cell_type": "code",
   "execution_count": 3,
   "metadata": {
    "collapsed": true
   },
   "outputs": [],
   "source": [
    "def checkio(array):\n",
    "    try:\n",
    "        sum = 0\n",
    "        for i, x in enumerate(array):\n",
    "            if i%2 == 0:\n",
    "                sum += x\n",
    "        return sum*array[-1]\n",
    "    except:\n",
    "        return 0"
   ]
  },
  {
   "cell_type": "markdown",
   "metadata": {},
   "source": [
    "## 4 Monkey typing\n",
    "The infinite monkey theorem states that a monkey hitting keys at random on a typewriter keyboard for an infinite length of time will almost surely type out a given text, such as the complete works of John Wallis, or more likely, a Dan Brown novel.\n",
    "\n",
    "Let's suppose our monkeys are typing, typing and typing, and have produced a wide variety of short text segments. Let's try to check them for sensible word inclusions.\n",
    "\n",
    "You are given some text potentially including sensible words. You should count how many words are included in the given text. A word should be whole and may be a part of other word. Text letter case does not matter. Words are given in lowercase and don't repeat. If a word appears several times in the text, it should be counted only once.\n",
    "\n",
    "For example, text - \"How aresjfhdskfhskd you?\", words - (\"how\", \"are\", \"you\", \"hello\"). The result will be 3."
   ]
  },
  {
   "cell_type": "code",
   "execution_count": 4,
   "metadata": {
    "collapsed": false
   },
   "outputs": [],
   "source": [
    "def count_words(text, words):\n",
    "    count = 0\n",
    "    text = text.lower()\n",
    "    for word in words:\n",
    "        if word.lower() in text:\n",
    "            count += 1\n",
    "    return count"
   ]
  },
  {
   "cell_type": "markdown",
   "metadata": {},
   "source": [
    "## 5 Secret Message\n",
    "Ever tried to send a secret message to someone without using the postal service? You could use newspapers to tell your secret. Even if someone finds your message, it’s easy to brush them off and that its paranoia and a bogus conspiracy theory. One of the simplest ways to hide a secret message is to use capital letters. Let's find some of these secret messages.\n",
    "\n",
    "You are given a chunk of text. Gather all capital letters in one word in the order that they appear in the text.\n",
    "\n",
    "For example: text = \"How are you? Eh, ok. Low or Lower? Ohhh.\", if we collect all of the capital letters, we get the message \"HELLO\"."
   ]
  },
  {
   "cell_type": "code",
   "execution_count": 5,
   "metadata": {
    "collapsed": true
   },
   "outputs": [],
   "source": [
    "caps = 'ABCDEFGHIJKLMNOPQRSTUVWXYZ'\n",
    "def find_message(text):\n",
    "    return ''.join([i for i in text if i in caps])"
   ]
  },
  {
   "cell_type": "markdown",
   "metadata": {},
   "source": [
    "## 6 Three words\n",
    "Let's teach the Robots to distinguish words and numbers.\n",
    "\n",
    "You are given a string with words and numbers separated by whitespaces (one space). The words contains only letters. You should check if the string contains three words in succession. For example, the string \"start 5 one two three 7 end\" contains three words in succession.\n",
    "\n"
   ]
  },
  {
   "cell_type": "code",
   "execution_count": 6,
   "metadata": {
    "collapsed": true
   },
   "outputs": [],
   "source": [
    "nums = '0123456789'\n",
    "def checkio(words):\n",
    "    words = words.split()\n",
    "    count = 0\n",
    "    max_count = 0\n",
    "    if len(words) < 3:\n",
    "        return False\n",
    "    for word in words:\n",
    "        count += 1\n",
    "        for d in nums:\n",
    "            if d in word:\n",
    "                count = 0\n",
    "        \n",
    "        if count > max_count:\n",
    "            max_count = count\n",
    "                \n",
    "    if max_count >= 3:\n",
    "        return True\n",
    "    else:\n",
    "        return False\n",
    "\n",
    "    \n",
    "assert checkio(\"Hello World hello\") == True, \"Hello\"\n",
    "assert checkio(\"He is 123 man\") == False, \"123 man\"\n",
    "assert checkio(\"1 2 3 4\") == False, \"Digits\"\n",
    "assert checkio(\"bla bla bla bla\") == True, \"Bla Bla\"\n",
    "assert checkio(\"Hi\") == False, \"Hi\"\n"
   ]
  },
  {
   "cell_type": "markdown",
   "metadata": {},
   "source": [
    "## 7 The most numbers\n",
    "Let's work with numbers.\n",
    "\n",
    "You are given an array of numbers (floats). You should find the difference between the maximum and minimum element. Your function should be able to handle an undefined amount of arguments. For an empty argument list, the function should return 0.\n",
    "\n",
    "Floating-point numbers are represented in computer hardware as base 2 (binary) fractions (read about this here). So we should check the result with ±0.001 precision.\n",
    "Think about how to work with an arbitrary number of arguments."
   ]
  },
  {
   "cell_type": "code",
   "execution_count": 7,
   "metadata": {
    "collapsed": true
   },
   "outputs": [],
   "source": [
    "def checkio(*args):\n",
    "    if len(args) > 0:\n",
    "        nums = list(args)\n",
    "        maxi = -10000000\n",
    "        mini = 1000000\n",
    "        for i in nums:\n",
    "            if i > maxi:\n",
    "                maxi = i\n",
    "            if i < mini:\n",
    "                mini = i\n",
    "        \n",
    "        return maxi-mini\n",
    "    else:\n",
    "        return 0"
   ]
  },
  {
   "cell_type": "markdown",
   "metadata": {},
   "source": [
    "## 8 Boolean Algebra\n",
    "\n",
    "In mathematics and mathematical logic, Boolean algebra is a sub-area of algebra in which the values of the variables are true or false, typically denoted with 1 or 0 respectively. Instead of elementary algebra where the values of the variables are numbers and the main operations are addition and multiplication, the main operations of Boolean algebra are the conjunction (denoted ∧), the disjunction (denoted ∨) and the negation (denoted ¬).\n",
    "\n",
    "In this mission you should implement some boolean operations:\n",
    "- \"conjunction\" denoted x ∧ y, satisfies x ∧ y = 1 if x = y = 1 and x ∧ y = 0 otherwise.\n",
    "- \"disjunction\" denoted x ∨ y, satisfies x ∨ y = 0 if x = y = 0 and x ∨ y = 1 otherwise.\n",
    "- \"implication\" (material implication) denoted x→y and can be described as ¬ x ∨ y. If x is true then the value of x → y is taken to be that of y. But if x is false then the value of y can be ignored; however the operation must return some truth value and there are only two choices, so the return value is the one that entails less, namely true.\n",
    "- \"exclusive\" (exclusive or) denoted x ⊕ y and can be described as (x ∨ y)∧ ¬ (x ∧ y). It excludes the possibility of both x and y. Defined in terms of arithmetic it is addition mod 2 where 1 + 1 = 0.\n",
    "- \"equivalence\" denoted x ≡ y and can be described as ¬ (x ⊕ y). It's true just when x and y have the same value.\n",
    "Here you can see the truth table for these operations:\n",
    "\n",
    " x | y | x∧y | x∨y | x→y | x⊕y | x≡y |\n",
    "\n",
    " 0 | 0 |  0  |  0  |  1  |  0  |  1  |\n",
    " \n",
    " 1 | 0 |  0  |  1  |  0  |  1  |  0  |\n",
    " \n",
    " 0 | 1 |  0  |  1  |  1  |  1  |  0  |\n",
    " \n",
    " 1 | 1 |  1  |  1  |  1  |  0  |  1  |\n",
    "\n",
    "You are given two boolean values x and y as 1 or 0 and you are given an operation name as described earlier. You should calculate the value and return it as 1 or 0."
   ]
  },
  {
   "cell_type": "code",
   "execution_count": 9,
   "metadata": {
    "collapsed": true
   },
   "outputs": [],
   "source": [
    "OP_NAMES = (\"conjunction\", \"disjunction\", \"implication\", \"exclusive\", \"equivalence\")\n",
    "\n",
    "def boolean(x, y, operation):\n",
    "    if operation == OP_NAMES[0]:\n",
    "        if x and y:\n",
    "            return 1\n",
    "        else:\n",
    "            return 0\n",
    "    elif operation == OP_NAMES[1]:\n",
    "        if not x and not y:\n",
    "            return 0\n",
    "        else:\n",
    "            return 1   \n",
    "    elif operation == OP_NAMES[2]:\n",
    "        if x and not y:\n",
    "            return 0\n",
    "        else:\n",
    "            return 1\n",
    "    elif operation == OP_NAMES[3]:\n",
    "        if (not x and not y) or (x and y):\n",
    "            return 0\n",
    "        else:\n",
    "            return 1\n",
    "    elif operation == OP_NAMES[4]:\n",
    "        if (not x and not y) or (x and y):\n",
    "            return 1\n",
    "        else:\n",
    "            return 0\n",
    "\n",
    "assert boolean(1, 0, \"conjunction\") == 0, \"and\"\n",
    "assert boolean(1, 0, \"disjunction\") == 1, \"or\"\n",
    "assert boolean(1, 1, \"implication\") == 1, \"material\"\n",
    "assert boolean(0, 1, \"exclusive\") == 1, \"xor\"\n",
    "assert boolean(0, 1, \"equivalence\") == 0, \"same?\"\n"
   ]
  },
  {
   "cell_type": "markdown",
   "metadata": {},
   "source": [
    "## 9 Right to left\n",
    "One of robots is charged with a simple task: to join a sequence of strings in one sentence to produce instructions on how to get around the ship. But this robot is left-hander and has a tendency to joke around and confuse its right handed friends.\n",
    "\n",
    "You are given a sequence of strings. You should join these strings into chunk of text where the initial strings are separated by commas. As a joke on the right handed robots, you should replace all cases of the words \"right\" with the word \"left\", even if it's a part of another word. All strings are given in lowercase."
   ]
  },
  {
   "cell_type": "code",
   "execution_count": 10,
   "metadata": {
    "collapsed": true
   },
   "outputs": [],
   "source": [
    "def left_join(phrases):\n",
    "    return ','.join([phrase.replace('right','left') for phrase in phrases])\n",
    "\n",
    "assert left_join((\"left\", \"right\", \"left\", \"stop\")) == \"left,left,left,stop\", \"All to left\"\n",
    "assert left_join((\"bright aright\", \"ok\")) == \"bleft aleft,ok\", \"Bright Left\"\n",
    "assert left_join((\"brightness wright\",)) == \"bleftness wleft\", \"One phrase\"\n",
    "assert left_join((\"enough\", \"jokes\")) == \"enough,jokes\", \"Nothing to replace\""
   ]
  },
  {
   "cell_type": "markdown",
   "metadata": {},
   "source": [
    "## 10 Digits Multiplication\n",
    "You are given a positive integer. Your function should calculate the product of the digits excluding any zeroes.\n",
    "\n",
    "For example: The number given is 123405. The result will be 1*2*3*4*5=120 (don't forget to exclude zeroes)."
   ]
  },
  {
   "cell_type": "code",
   "execution_count": 12,
   "metadata": {
    "collapsed": false
   },
   "outputs": [],
   "source": [
    "from functools import reduce\n",
    "def checkio(number):\n",
    "    return reduce(lambda x,y: x*y, [int(i) for i in str(number) if i != '0'])\n",
    "\n",
    "assert checkio(123405) == 120\n",
    "assert checkio(999) == 729\n",
    "assert checkio(1000) == 1\n",
    "assert checkio(1111) == 1\n"
   ]
  },
  {
   "cell_type": "markdown",
   "metadata": {},
   "source": [
    "## 11 Count inversions\n",
    "In computer science and discrete mathematics, an inversion is a pair of places in a sequence where the elements in these places are out of their natural order. So, if we use ascending order for a group of numbers, then an inversion is when larger numbers appear before lower number in a sequence.\n",
    "\n",
    "Check out this example sequence: (1, 2, 5, 3, 4, 7, 6) and we can see here three inversions\n",
    "- 5 and 3; \n",
    "- 5 and 4; \n",
    "- 7 and 6.\n",
    "\n",
    "You are given a sequence of unique numbers and you should count the number of inversions in this sequence."
   ]
  },
  {
   "cell_type": "code",
   "execution_count": 13,
   "metadata": {
    "collapsed": true
   },
   "outputs": [],
   "source": [
    "def count_inversion(sequence):\n",
    "    count = 0\n",
    "    for i, x in enumerate(sequence):\n",
    "        for j in sequence[i+1:]:\n",
    "            if x > j:\n",
    "                count+=1\n",
    "    return count"
   ]
  },
  {
   "cell_type": "code",
   "execution_count": null,
   "metadata": {
    "collapsed": true
   },
   "outputs": [],
   "source": []
  }
 ],
 "metadata": {
  "kernelspec": {
   "display_name": "Python 3",
   "language": "python",
   "name": "python3"
  },
  "language_info": {
   "codemirror_mode": {
    "name": "ipython",
    "version": 3
   },
   "file_extension": ".py",
   "mimetype": "text/x-python",
   "name": "python",
   "nbconvert_exporter": "python",
   "pygments_lexer": "ipython3",
   "version": "3.5.1"
  }
 },
 "nbformat": 4,
 "nbformat_minor": 0
}
