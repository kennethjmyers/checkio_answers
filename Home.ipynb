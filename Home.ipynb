{
 "cells": [
  {
   "cell_type": "markdown",
   "metadata": {},
   "source": [
    "## 1 Remove uniques\n",
    "\n",
    "You are given a non-empty list of integers (X). For this task, you should return a list consisting of only the non-unique elements in this list. To do so you will need to remove all unique elements (elements which are contained in a given list only once). When solving this task, do not change the order of the list. Example: [1, 2, 3, 1, 3] 1 and 3 non-unique elements and result will be [1, 3, 1, 3]."
   ]
  },
  {
   "cell_type": "code",
   "execution_count": 1,
   "metadata": {
    "collapsed": true
   },
   "outputs": [],
   "source": [
    "from collections import Counter"
   ]
  },
  {
   "cell_type": "code",
   "execution_count": 2,
   "metadata": {
    "collapsed": false
   },
   "outputs": [
    {
     "data": {
      "text/plain": [
       "Counter({1: 2, 2: 1, 3: 2})"
      ]
     },
     "execution_count": 2,
     "metadata": {},
     "output_type": "execute_result"
    }
   ],
   "source": [
    "arr = [1, 2, 3, 1, 3]\n",
    "count = Counter(arr)\n",
    "count"
   ]
  },
  {
   "cell_type": "code",
   "execution_count": 3,
   "metadata": {
    "collapsed": false
   },
   "outputs": [
    {
     "data": {
      "text/plain": [
       "[1, 3, 1, 3]"
      ]
     },
     "execution_count": 3,
     "metadata": {},
     "output_type": "execute_result"
    }
   ],
   "source": [
    "for k,v in count.items():\n",
    "    if v == 1:\n",
    "        arr.remove(k)\n",
    "\n",
    "arr"
   ]
  },
  {
   "cell_type": "markdown",
   "metadata": {},
   "source": [
    "## 2 Medians\n",
    "A median is a numerical value separating the upper half of a sorted array of numbers from the lower half. In a list where there are an odd number of entities, the median is the number found in the middle of the array. If the array contains an even number of entities, then there is no single middle value, instead the median becomes the average of the two numbers found in the middle. For this mission, you are given a non-empty array of natural numbers (X). With it, you must separate the upper half of the numbers from the lower half and find the median."
   ]
  },
  {
   "cell_type": "code",
   "execution_count": 4,
   "metadata": {
    "collapsed": true
   },
   "outputs": [],
   "source": [
    "arr1 = [1, 300, 2, 200, 1]\n",
    "arr2 = [3, 6, 20, 99, 10, 15]\n",
    "\n",
    "def med(data):\n",
    "    data = sorted(data)\n",
    "    length = len(data)\n",
    "    mid = int(length/2)\n",
    "    if length % 2 == 0:\n",
    "        med = (data[mid]+data[mid-1])/2\n",
    "    else:\n",
    "        med = data[mid]\n",
    "        \n",
    "    return med"
   ]
  },
  {
   "cell_type": "code",
   "execution_count": 5,
   "metadata": {
    "collapsed": false
   },
   "outputs": [
    {
     "data": {
      "text/plain": [
       "12.5"
      ]
     },
     "execution_count": 5,
     "metadata": {},
     "output_type": "execute_result"
    }
   ],
   "source": [
    "med(arr2)"
   ]
  },
  {
   "cell_type": "markdown",
   "metadata": {},
   "source": [
    "## 3 House passwords \n",
    "Stephan and Sophia forget about security and use simple passwords for everything. Help Nikola develop a password security check module. The password will be considered strong enough if its length is greater than or equal to 10 symbols, it has at least one digit, as well as containing one uppercase letter and one lowercase letter in it. The password contains only ASCII latin letters or digits."
   ]
  },
  {
   "cell_type": "code",
   "execution_count": 6,
   "metadata": {
    "collapsed": true
   },
   "outputs": [],
   "source": [
    "import re\n",
    "\n",
    "def passcheck(data):\n",
    "    lc = re.compile(r'[a-z]+')\n",
    "    uc = re.compile(r'[A-Z]+')\n",
    "    dc = re.compile(r'[0-9]+')\n",
    "    if len(data) >= 10:\n",
    "        if lc.findall(data) and uc.findall(data) and dc.findall(data):\n",
    "            return True\n",
    "        else:\n",
    "            return False\n",
    "    else:\n",
    "        return False"
   ]
  },
  {
   "cell_type": "code",
   "execution_count": 7,
   "metadata": {
    "collapsed": false
   },
   "outputs": [
    {
     "data": {
      "text/plain": [
       "False"
      ]
     },
     "execution_count": 7,
     "metadata": {},
     "output_type": "execute_result"
    }
   ],
   "source": [
    "passcheck('A1213pokl')"
   ]
  },
  {
   "cell_type": "code",
   "execution_count": 8,
   "metadata": {
    "collapsed": false
   },
   "outputs": [
    {
     "data": {
      "text/plain": [
       "True"
      ]
     },
     "execution_count": 8,
     "metadata": {},
     "output_type": "execute_result"
    }
   ],
   "source": [
    "passcheck('bAse730onE4')"
   ]
  },
  {
   "cell_type": "code",
   "execution_count": 9,
   "metadata": {
    "collapsed": false
   },
   "outputs": [
    {
     "data": {
      "text/plain": [
       "False"
      ]
     },
     "execution_count": 9,
     "metadata": {},
     "output_type": "execute_result"
    }
   ],
   "source": [
    "passcheck('asasasasasasasaas')"
   ]
  },
  {
   "cell_type": "code",
   "execution_count": 10,
   "metadata": {
    "collapsed": false
   },
   "outputs": [
    {
     "data": {
      "text/plain": [
       "False"
      ]
     },
     "execution_count": 10,
     "metadata": {},
     "output_type": "execute_result"
    }
   ],
   "source": [
    "passcheck('QWERTYqwerty')"
   ]
  },
  {
   "cell_type": "code",
   "execution_count": 11,
   "metadata": {
    "collapsed": false
   },
   "outputs": [
    {
     "data": {
      "text/plain": [
       "True"
      ]
     },
     "execution_count": 11,
     "metadata": {},
     "output_type": "execute_result"
    }
   ],
   "source": [
    "passcheck('QwErTy911poqqqq')"
   ]
  },
  {
   "cell_type": "markdown",
   "metadata": {},
   "source": [
    "## 4 Moore Neighborhood\n",
    "\n",
    "In cellular automata, the Moore neighborhood comprises the eight cells surrounding a central cell on a two-dimensional square lattice. The neighborhood is named after Edward F. Moore, a pioneer of cellular automata theory. Many board games are played with a rectangular grid with squares as cells. For some games, it is important to know about the conditions of neighbouring cells for chip (figure, draught etc) placement and strategy.\n",
    "\n",
    "You are given a state for a rectangular board game grid with chips in a binary matrix, where 1 is a cell with a chip and 0 is an empty cell. You are also given the coordinates for a cell in the form of row and column numbers (starting from 0). You should determine how many chips are close to this cell. Every cell interacts with its eight neighbours; those cells that are horizontally, vertically, or diagonally adjacent."
   ]
  },
  {
   "cell_type": "code",
   "execution_count": 12,
   "metadata": {
    "collapsed": false
   },
   "outputs": [],
   "source": [
    "def count_neighbours(grid, m, n):\n",
    "    count = 0\n",
    "    if m == 0:\n",
    "        m_options = [0,1]\n",
    "    elif m==len(grid)-1:\n",
    "        m_options = [-1,0]\n",
    "    else:\n",
    "        m_options = [-1,0,1]\n",
    "    \n",
    "    if n == 0:\n",
    "        n_options = [0,1]\n",
    "    elif n==len(grid[len(grid)-1])-1:\n",
    "        n_options = [-1,0]\n",
    "    else:\n",
    "        n_options = [-1,0,1]\n",
    "    \n",
    "    for i in m_options:\n",
    "        for j in n_options:\n",
    "            count += grid[m+i][n+j]\n",
    "    \n",
    "    #remove the value of desired position\n",
    "    count -= grid[m][n]\n",
    "    \n",
    "    return count"
   ]
  },
  {
   "cell_type": "code",
   "execution_count": 13,
   "metadata": {
    "collapsed": false
   },
   "outputs": [
    {
     "data": {
      "text/plain": [
       "3"
      ]
     },
     "execution_count": 13,
     "metadata": {},
     "output_type": "execute_result"
    }
   ],
   "source": [
    "count_neighbours(((1, 0, 0, 1, 0),\n",
    "                 (0, 1, 0, 0, 0),\n",
    "                 (0, 0, 1, 0, 1),\n",
    "                 (1, 0, 0, 0, 0),\n",
    "                 (0, 0, 1, 0, 0),), 1, 2)"
   ]
  },
  {
   "cell_type": "markdown",
   "metadata": {},
   "source": [
    "## 5 Most wanted letter\n",
    "You are given a text, which contains different english letters and punctuation symbols. You should find the most frequent letter in the text. The letter returned must be in lower case.\n",
    "While checking for the most wanted letter, casing does not matter, so for the purpose of your search, \"A\" == \"a\". Make sure you do not count punctuation symbols, digits and whitespaces, only letters.\n",
    "\n",
    "If you have two or more letters with the same frequency, then return the letter which comes first in the latin alphabet. For example -- \"one\" contains \"o\", \"n\", \"e\" only once for each, thus we choose \"e\"."
   ]
  },
  {
   "cell_type": "code",
   "execution_count": 14,
   "metadata": {
    "collapsed": true
   },
   "outputs": [],
   "source": [
    "def checkio(text):\n",
    "    text = text.lower()\n",
    "    lc = re.compile(r'[a-z]')\n",
    "    letters = lc.findall(text)\n",
    "    counts = Counter(letters)\n",
    "    max_letter = max(sorted(counts.items(), key=lambda x:x[0]), key=lambda x: x[1])\n",
    "    \n",
    "    return max_letter[0]"
   ]
  },
  {
   "cell_type": "code",
   "execution_count": 15,
   "metadata": {
    "collapsed": false
   },
   "outputs": [
    {
     "data": {
      "text/plain": [
       "'a'"
      ]
     },
     "execution_count": 15,
     "metadata": {},
     "output_type": "execute_result"
    }
   ],
   "source": [
    "checkio(\"AAaooo\")"
   ]
  },
  {
   "cell_type": "markdown",
   "metadata": {
    "collapsed": true
   },
   "source": [
    "## 6 X O referee\n",
    "Tic-Tac-Toe, sometimes also known as Xs and Os, is a game for two players (X and O) who take turns marking the spaces in a 3×3 grid. The player who succeeds in placing three respective marks in a horizontal, vertical, or diagonal rows (NW-SE and NE-SW) wins the game.\n",
    "\n",
    "But we will not be playing this game. You will be the referee for this games results. You are given a result of a game and you must determine if the game ends in a win or a draw as well as who will be the winner. Make sure to return \"X\" if the X-player wins and \"O\" if the O-player wins. If the game is a draw, return \"D\".\n",
    "\n"
   ]
  },
  {
   "cell_type": "code",
   "execution_count": 34,
   "metadata": {
    "collapsed": false
   },
   "outputs": [],
   "source": [
    "grid = [[1,2,3],\n",
    "        [4,5,6],\n",
    "        [7,8,9]]"
   ]
  },
  {
   "cell_type": "code",
   "execution_count": 36,
   "metadata": {
    "collapsed": false,
    "scrolled": true
   },
   "outputs": [
    {
     "data": {
      "text/plain": [
       "[7, 8, 9]"
      ]
     },
     "execution_count": 36,
     "metadata": {},
     "output_type": "execute_result"
    }
   ],
   "source": [
    "list(grid[:][2])"
   ]
  },
  {
   "cell_type": "code",
   "execution_count": 26,
   "metadata": {
    "collapsed": false
   },
   "outputs": [
    {
     "data": {
      "text/plain": [
       "[1, 5, 9]"
      ]
     },
     "execution_count": 26,
     "metadata": {},
     "output_type": "execute_result"
    }
   ],
   "source": [
    "[grid[0,0], grid[1,1], grid[2,2]]"
   ]
  },
  {
   "cell_type": "code",
   "execution_count": 28,
   "metadata": {
    "collapsed": true
   },
   "outputs": [],
   "source": [
    "def check(row):\n",
    "    if ['X','X','X'] == row:\n",
    "        return 'X'\n",
    "    elif ['O','O','O'] == row:\n",
    "        return 'O'\n",
    "    else:\n",
    "        return 'D'"
   ]
  },
  {
   "cell_type": "code",
   "execution_count": 39,
   "metadata": {
    "collapsed": false
   },
   "outputs": [],
   "source": [
    "def checkio(game_result):\n",
    "    game_result = [list(i) for i in game_result]\n",
    "\n",
    "    possibilities = [[game_result[0][0], game_result[1][1], game_result[2][2]],\n",
    "                    [game_result[0][2], game_result[1][1], game_result[2][0]],\n",
    "                    [i[0] for i in game_result],\n",
    "                    [i[1] for i in game_result],\n",
    "                    [i[2] for i in game_result],\n",
    "                    game_result[0],\n",
    "                    game_result[1],\n",
    "                    game_result[2]\n",
    "                     ]\n",
    "    \n",
    "    for p in possibilities:\n",
    "        result = check(p)\n",
    "        if result == 'X':\n",
    "            return result\n",
    "        elif result == 'O':\n",
    "            return result\n",
    "    \n",
    "    return result\n",
    "    "
   ]
  },
  {
   "cell_type": "code",
   "execution_count": 40,
   "metadata": {
    "collapsed": false
   },
   "outputs": [
    {
     "data": {
      "text/plain": [
       "'X'"
      ]
     },
     "execution_count": 40,
     "metadata": {},
     "output_type": "execute_result"
    }
   ],
   "source": [
    "checkio([\n",
    "        \"O.X\",\n",
    "        \"XX.\",\n",
    "        \"XOO\"])"
   ]
  },
  {
   "cell_type": "markdown",
   "metadata": {},
   "source": [
    "## 7 The flat dictionary\n",
    "Nikola likes to categorize everything in sight. One time Stephan gave him a label maker for his birthday, and the robots were peeling labels off of every surface in the ship for weeks. He has since categorized all the reagents in his laboratory, books in the library and notes on the desk. But then he learned about python dictionaries, and categorized all the possible configurations for Sophia’s drones. Now the files are organized in a deep nested structure, but Sophia doesn’t like this. Let's help Sophia to flatten these dictionaries.\n",
    "\n",
    "Python dictionaries are a convenient data type to store and process configurations. They allow you to store data by keys to create nested structures. You are given a dictionary where the keys are strings and the values are strings or dictionaries. The goal is flatten the dictionary, but save the structures in the keys. The result should be the a dictionary without the nested dictionaries. The keys should contain paths that contain the parent keys from the original dictionary. The keys in the path are separated by a \"/\". If a value is an empty dictionary, then it should be replaced by an empty string (\"\"). Let's look at an example:\n",
    "\n",
    "```\n",
    "{\n",
    "    \"name\": {\n",
    "        \"first\": \"One\",\n",
    "        \"last\": \"Drone\"\n",
    "    },\n",
    "    \"job\": \"scout\",\n",
    "    \"recent\": {},\n",
    "    \"additional\": {\n",
    "        \"place\": {\n",
    "            \"zone\": \"1\",\n",
    "            \"cell\": \"2\"}\n",
    "    }\n",
    "}\n",
    "```\n",
    "\n",
    "goes to :\n",
    "\n",
    "```\n",
    "{\"name/first\": \"One\",           #one parent\n",
    " \"name/last\": \"Drone\",\n",
    " \"job\": \"scout\",                #root key\n",
    " \"recent\": \"\",                  #empty dict\n",
    " \"additional/place/zone\": \"1\",  #third level\n",
    " \"additional/place/cell\": \"2\"}\n",
    "```"
   ]
  },
  {
   "cell_type": "code",
   "execution_count": 69,
   "metadata": {
    "collapsed": true
   },
   "outputs": [],
   "source": [
    "def flatten(dictionary):\n",
    "    stack = [((), dictionary)]\n",
    "    result = {}\n",
    "    while stack:\n",
    "        #print(stack)\n",
    "        path, current = stack.pop()\n",
    "        #print(path,current)\n",
    "        for k, v in current.items():\n",
    "            if v == {}:\n",
    "                    v = \"\"\n",
    "            if isinstance(v, dict):\n",
    "                stack.append((path + (k,), v))\n",
    "                #print(stack)\n",
    "            else:\n",
    "                result[\"/\".join((path + (k,)))] = v\n",
    "    return result"
   ]
  },
  {
   "cell_type": "code",
   "execution_count": 70,
   "metadata": {
    "collapsed": false
   },
   "outputs": [
    {
     "name": "stdout",
     "output_type": "stream",
     "text": [
      "[(('key',), {'deeper': {'more': {'enough': 'value'}}})]\n",
      "[(('key', 'deeper'), {'more': {'enough': 'value'}})]\n",
      "[(('key', 'deeper', 'more'), {'enough': 'value'})]\n"
     ]
    },
    {
     "data": {
      "text/plain": [
       "{'key/deeper/more/enough': 'value'}"
      ]
     },
     "execution_count": 70,
     "metadata": {},
     "output_type": "execute_result"
    }
   ],
   "source": [
    "flatten({\"key\": {\"deeper\": {\"more\": {\"enough\": \"value\"}}}})"
   ]
  },
  {
   "cell_type": "code",
   "execution_count": 71,
   "metadata": {
    "collapsed": false
   },
   "outputs": [
    {
     "data": {
      "text/plain": [
       "{'empty': ''}"
      ]
     },
     "execution_count": 71,
     "metadata": {},
     "output_type": "execute_result"
    }
   ],
   "source": [
    "flatten({\"empty\": {}})"
   ]
  },
  {
   "cell_type": "code",
   "execution_count": 72,
   "metadata": {
    "collapsed": false
   },
   "outputs": [
    {
     "name": "stdout",
     "output_type": "stream",
     "text": [
      "[(('key',), {'deeper': {'more': {'enough': 'value'}}})]\n",
      "[(('key', 'deeper'), {'more': {'enough': 'value'}})]\n",
      "[(('key', 'deeper', 'more'), {'enough': 'value'})]\n",
      "[(('additional',), {'place': {'cell': '2', 'zone': '1'}})]\n",
      "[(('additional',), {'place': {'cell': '2', 'zone': '1'}}), (('name',), {'last': 'Drone', 'first': 'One'})]\n",
      "[(('additional', 'place'), {'cell': '2', 'zone': '1'})]\n"
     ]
    }
   ],
   "source": [
    "assert flatten({\"key\": \"value\"}) == {\"key\": \"value\"}, \"Simple\"\n",
    "assert flatten(\n",
    "    {\"key\": {\"deeper\": {\"more\": {\"enough\": \"value\"}}}}\n",
    ") == {\"key/deeper/more/enough\": \"value\"}, \"Nested\"\n",
    "assert flatten({\"empty\": {}}) == {\"empty\": \"\"}, \"Empty value\"\n",
    "assert flatten({\"name\": {\n",
    "                    \"first\": \"One\",\n",
    "                    \"last\": \"Drone\"},\n",
    "                \"job\": \"scout\",\n",
    "                \"recent\": {},\n",
    "                \"additional\": {\n",
    "                    \"place\": {\n",
    "                        \"zone\": \"1\",\n",
    "                        \"cell\": \"2\"}}}\n",
    ") == {\"name/first\": \"One\",\n",
    "      \"name/last\": \"Drone\",\n",
    "      \"job\": \"scout\",\n",
    "      \"recent\": \"\",\n",
    "      \"additional/place/zone\": \"1\",\n",
    "      \"additional/place/cell\": \"2\"}"
   ]
  },
  {
   "cell_type": "markdown",
   "metadata": {},
   "source": [
    "## 8 Pawn brotherhood\n",
    "Almost everyone in the world knows about the ancient game Chess and has at least a basic understanding of its rules. It has various units with a wide range of movement patterns allowing for a huge number of possible different game positions (for example Number of possible chess games at the end of the n-th plies.) For this mission, we will examine the movements and behavior of chess pawns.\n",
    "\n",
    "Chess is a two-player strategy game played on a checkered game board laid out in eight rows (called ranks and denoted with numbers 1 to 8) and eight columns (called files and denoted with letters a to h) of squares. Each square of the chessboard is identified by a unique coordinate pair — a letter and a number (ex, \"a1\", \"h8\", \"d6\"). For this mission we only need to concern ourselves with pawns. A pawn may capture an opponent's piece on a square diagonally in front of it on an adjacent file, by moving to that square. For white pawns the front squares are squares with greater row than their.\n",
    "\n",
    "A pawn is generally a weak unit, but we have 8 of them which we can use to build a pawn defense wall. With this strategy, one pawn defends the others. A pawn is safe if another pawn can capture a unit on that square. We have several white pawns on the chess board and only white pawns. You should design your code to find how many pawns are safe."
   ]
  },
  {
   "cell_type": "code",
   "execution_count": 73,
   "metadata": {
    "collapsed": true
   },
   "outputs": [],
   "source": [
    "def safe_pawns(pawns):\n",
    "    alphanum = {'a':'1','b':'2','c':'3','d':'4','e':'5','f':'6','g':'7','h':'8'}\n",
    "    coords = [(int(alphanum[i[0]]), int(i[1])) for i in pawns]\n",
    "    print(coords)\n",
    "    safe_count = 0\n",
    "    for i in coords:\n",
    "        if (i[0]-1, i[1]-1) in coords or (i[0]+1, i[1]-1) in coords:\n",
    "            safe_count += 1\n",
    "    \n",
    "    return safe_count"
   ]
  },
  {
   "cell_type": "code",
   "execution_count": null,
   "metadata": {
    "collapsed": true
   },
   "outputs": [],
   "source": []
  }
 ],
 "metadata": {
  "kernelspec": {
   "display_name": "Python 3",
   "language": "python",
   "name": "python3"
  },
  "language_info": {
   "codemirror_mode": {
    "name": "ipython",
    "version": 3
   },
   "file_extension": ".py",
   "mimetype": "text/x-python",
   "name": "python",
   "nbconvert_exporter": "python",
   "pygments_lexer": "ipython3",
   "version": "3.5.1"
  }
 },
 "nbformat": 4,
 "nbformat_minor": 0
}
