{
 "cells": [
  {
   "cell_type": "markdown",
   "metadata": {},
   "source": [
    "## 1 Striped Words\n",
    "Our robots are always working to improve their linguistic skills. For this mission, they research the latin alphabet and its applications.\n",
    "\n",
    "The alphabet contains both vowel and consonant letters (yes, we divide the letters).\n",
    "Vowels -- A E I O U Y\n",
    "Consonants -- B C D F G H J K L M N P Q R S T V W X Z\n",
    "\n",
    "You are given a block of text with different words. These words are separated by white-spaces and punctuation marks. Numbers are not considered words in this mission (a mix of letters and digits is not a word either). You should count the number of words (striped words) where the vowels with consonants are alternating, that is; words that you count cannot have two consecutive vowels or consonants. The words consisting of a single letter are not striped -- do not count those. Casing is not significant for this mission."
   ]
  },
  {
   "cell_type": "code",
   "execution_count": 3,
   "metadata": {
    "collapsed": true
   },
   "outputs": [],
   "source": [
    "VOWELS = \"AEIOUY\"\n",
    "CONSONANTS = \"BCDFGHJKLMNPQRSTVWXZ\"\n",
    "import re\n",
    "\n",
    "\n",
    "def checkio(text):\n",
    "    count = 0\n",
    "    text = text.replace('.', ' ').replace(',', ' ')\n",
    "    r = re.compile('[^\\w\\s]')\n",
    "    text = r.sub('', text).upper().split()\n",
    "    print(text)\n",
    "    for word in text:\n",
    "        bad_word = False\n",
    "        if len(word) <= 1:\n",
    "            continue\n",
    "        \n",
    "        odds = [a for i, a in enumerate(word) if (i+1) % 2 == 1]\n",
    "        evens = [a for i, a in enumerate(word) if (i+1) % 2 == 0]\n",
    "        \n",
    "        if odds[0] in VOWELS:\n",
    "            for o in odds[1:]:\n",
    "                if o not in VOWELS:\n",
    "                    bad_word = True\n",
    "            for e in evens:\n",
    "                if e not in CONSONANTS:\n",
    "                    bad_word = True\n",
    "            \n",
    "        \n",
    "        elif odds[0] in CONSONANTS:\n",
    "            for o in odds[1:]:\n",
    "                if o not in CONSONANTS:\n",
    "                    bad_word = True\n",
    "            for e in evens:\n",
    "                if e not in VOWELS:\n",
    "                    bad_word = True\n",
    "                    \n",
    "        else:\n",
    "            bad_word = True\n",
    "        \n",
    "        if bad_word:\n",
    "            continue\n",
    "        else:\n",
    "            count += 1\n",
    "    \n",
    "    print(count)\n",
    "    return count"
   ]
  },
  {
   "cell_type": "code",
   "execution_count": 4,
   "metadata": {
    "collapsed": false
   },
   "outputs": [
    {
     "name": "stdout",
     "output_type": "stream",
     "text": [
      "['1', '2', '3', '12', '13']\n",
      "0\n"
     ]
    },
    {
     "data": {
      "text/plain": [
       "0"
      ]
     },
     "execution_count": 4,
     "metadata": {},
     "output_type": "execute_result"
    }
   ],
   "source": [
    "checkio(\"1 2 3 12 13\")"
   ]
  },
  {
   "cell_type": "markdown",
   "metadata": {},
   "source": [
    "## 2 Ghost Age"
   ]
  },
  {
   "cell_type": "code",
   "execution_count": 13,
   "metadata": {
    "collapsed": true
   },
   "outputs": [],
   "source": [
    "fibs = [0, 1]\n",
    "for i in range(1000):\n",
    "    fibs.append(fibs[-2]+fibs[-1]) \n",
    "fibs.pop(0)\n",
    "\n",
    "opacities = [10000]\n",
    "for age in range(1, 5000):\n",
    "    if age in fibs:\n",
    "        opacities.append(opacities[-1]-age)\n",
    "    else:\n",
    "        opacities.append(opacities[-1]+1)\n",
    "\n",
    "def checkio(opacity):\n",
    "    return opacities.index(opacity)\n",
    "\n",
    "assert checkio(10000) == 0, \"Newborn\"\n",
    "assert checkio(9999) == 1, \"1 year\"\n",
    "assert checkio(9997) == 2, \"2 years\"\n",
    "assert checkio(9994) == 3, \"3 years\"\n",
    "assert checkio(9995) == 4, \"4 years\"\n",
    "assert checkio(9990) == 5, \"5 years\""
   ]
  },
  {
   "cell_type": "code",
   "execution_count": null,
   "metadata": {
    "collapsed": true
   },
   "outputs": [],
   "source": []
  }
 ],
 "metadata": {
  "kernelspec": {
   "display_name": "Python 3",
   "language": "python",
   "name": "python3"
  },
  "language_info": {
   "codemirror_mode": {
    "name": "ipython",
    "version": 3
   },
   "file_extension": ".py",
   "mimetype": "text/x-python",
   "name": "python",
   "nbconvert_exporter": "python",
   "pygments_lexer": "ipython3",
   "version": "3.5.1"
  }
 },
 "nbformat": 4,
 "nbformat_minor": 0
}
